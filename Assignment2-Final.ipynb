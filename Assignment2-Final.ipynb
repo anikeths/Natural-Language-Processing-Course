{
 "cells": [
  {
   "cell_type": "markdown",
   "id": "616b5a3c",
   "metadata": {},
   "source": [
    "### Group:\n",
    "Aniketh Satyanarayana, Shilpi Kumari, Swetha Vijaya Raju, Yong Zhao"
   ]
  },
  {
   "cell_type": "code",
   "execution_count": 1,
   "id": "c8290bd3",
   "metadata": {
    "id": "c8290bd3",
    "outputId": "baa904d9-1f47-4001-b1a5-eeb16f8d4359",
    "scrolled": true
   },
   "outputs": [
    {
     "name": "stdout",
     "output_type": "stream",
     "text": [
      "*** Introductory Examples for the NLTK Book ***\n",
      "Loading text1, ..., text9 and sent1, ..., sent9\n",
      "Type the name of the text or sentence to view it.\n",
      "Type: 'texts()' or 'sents()' to list the materials.\n",
      "text1: Moby Dick by Herman Melville 1851\n",
      "text2: Sense and Sensibility by Jane Austen 1811\n",
      "text3: The Book of Genesis\n",
      "text4: Inaugural Address Corpus\n",
      "text5: Chat Corpus\n",
      "text6: Monty Python and the Holy Grail\n",
      "text7: Wall Street Journal\n",
      "text8: Personals Corpus\n",
      "text9: The Man Who Was Thursday by G . K . Chesterton 1908\n"
     ]
    }
   ],
   "source": [
    "from nltk.book import *"
   ]
  },
  {
   "cell_type": "markdown",
   "id": "84d54456",
   "metadata": {
    "id": "84d54456"
   },
   "source": [
    "#### 1. Try using the Python interpreter as a calculator, and typing expressions like 12 / (4 + 1)."
   ]
  },
  {
   "cell_type": "code",
   "execution_count": 2,
   "id": "51a5bc72",
   "metadata": {
    "id": "51a5bc72",
    "outputId": "33a6211c-5c60-4152-9a6f-a2e659e2f438"
   },
   "outputs": [
    {
     "data": {
      "text/plain": [
       "2.4"
      ]
     },
     "execution_count": 2,
     "metadata": {},
     "output_type": "execute_result"
    }
   ],
   "source": [
    "12 / (4 + 1)"
   ]
  },
  {
   "cell_type": "markdown",
   "id": "8be47fc8",
   "metadata": {
    "id": "8be47fc8"
   },
   "source": [
    "#### 2. Given an alphabet of 26 letters, there are 26 to the power 10, or 26 ** 10, ten-letter strings we can form. That works out to 141167095653376. How many hundred-letter strings are possible?"
   ]
  },
  {
   "cell_type": "code",
   "execution_count": 3,
   "id": "797b089d",
   "metadata": {
    "id": "797b089d",
    "outputId": "df8bc09a-54f9-4050-ff28-19da3be38337"
   },
   "outputs": [
    {
     "data": {
      "text/plain": [
       "3142930641582938830174357788501626427282669988762475256374173175398995908420104023465432599069702289330964075081611719197835869803511992549376"
      ]
     },
     "execution_count": 3,
     "metadata": {},
     "output_type": "execute_result"
    }
   ],
   "source": [
    "26**100"
   ]
  },
  {
   "cell_type": "markdown",
   "id": "58b72419",
   "metadata": {
    "id": "58b72419"
   },
   "source": [
    "#### 3. The Python multiplication operation can be applied to lists. What happens when you type ['Monty', 'Python'] * 20, or 3 * sent1?"
   ]
  },
  {
   "cell_type": "code",
   "execution_count": 4,
   "id": "6b52253a",
   "metadata": {
    "id": "6b52253a",
    "outputId": "5928c0a1-f002-41a7-f991-27e724a4f5be"
   },
   "outputs": [
    {
     "data": {
      "text/plain": [
       "['Monty',\n",
       " 'Python',\n",
       " 'Monty',\n",
       " 'Python',\n",
       " 'Monty',\n",
       " 'Python',\n",
       " 'Monty',\n",
       " 'Python',\n",
       " 'Monty',\n",
       " 'Python',\n",
       " 'Monty',\n",
       " 'Python',\n",
       " 'Monty',\n",
       " 'Python',\n",
       " 'Monty',\n",
       " 'Python',\n",
       " 'Monty',\n",
       " 'Python',\n",
       " 'Monty',\n",
       " 'Python',\n",
       " 'Monty',\n",
       " 'Python',\n",
       " 'Monty',\n",
       " 'Python',\n",
       " 'Monty',\n",
       " 'Python',\n",
       " 'Monty',\n",
       " 'Python',\n",
       " 'Monty',\n",
       " 'Python',\n",
       " 'Monty',\n",
       " 'Python',\n",
       " 'Monty',\n",
       " 'Python',\n",
       " 'Monty',\n",
       " 'Python',\n",
       " 'Monty',\n",
       " 'Python',\n",
       " 'Monty',\n",
       " 'Python']"
      ]
     },
     "execution_count": 4,
     "metadata": {},
     "output_type": "execute_result"
    }
   ],
   "source": [
    "['Monty', 'Python'] * 20"
   ]
  },
  {
   "cell_type": "code",
   "execution_count": 5,
   "id": "4032c154",
   "metadata": {
    "id": "4032c154",
    "outputId": "d2e7b236-205d-42f7-f1e5-03481eeadf67",
    "scrolled": true
   },
   "outputs": [
    {
     "data": {
      "text/plain": [
       "['Call',\n",
       " 'me',\n",
       " 'Ishmael',\n",
       " '.',\n",
       " 'Call',\n",
       " 'me',\n",
       " 'Ishmael',\n",
       " '.',\n",
       " 'Call',\n",
       " 'me',\n",
       " 'Ishmael',\n",
       " '.']"
      ]
     },
     "execution_count": 5,
     "metadata": {},
     "output_type": "execute_result"
    }
   ],
   "source": [
    "3 * sent1"
   ]
  },
  {
   "cell_type": "markdown",
   "id": "b29460ca",
   "metadata": {
    "id": "b29460ca"
   },
   "source": [
    "####  4. Review 1 on computing with language. How many words are there in text2? How many distinct words are there?"
   ]
  },
  {
   "cell_type": "code",
   "execution_count": 6,
   "id": "1e2710f3",
   "metadata": {
    "id": "1e2710f3",
    "outputId": "a4e32e49-3a75-416c-b04d-ad847fc18083",
    "scrolled": true
   },
   "outputs": [
    {
     "name": "stdout",
     "output_type": "stream",
     "text": [
      "There are 141576 words in text2.\n"
     ]
    }
   ],
   "source": [
    "print(\"There are %d words in text2.\" %(len(text2)))"
   ]
  },
  {
   "cell_type": "code",
   "execution_count": 7,
   "id": "8778d620",
   "metadata": {
    "id": "8778d620",
    "outputId": "30b9be77-2dd5-4da3-b023-147b8aa1709d"
   },
   "outputs": [
    {
     "name": "stdout",
     "output_type": "stream",
     "text": [
      "There are 6833 distinct words in text2.\n"
     ]
    }
   ],
   "source": [
    "print(\"There are %d distinct words in text2.\" %(len(set(text2))))"
   ]
  },
  {
   "cell_type": "markdown",
   "id": "ff4f8c4a",
   "metadata": {
    "id": "ff4f8c4a"
   },
   "source": [
    "####  5. Compare the lexical diversity scores for humor and romance fiction in 1.1. Which genre is more lexically diverse?"
   ]
  },
  {
   "cell_type": "markdown",
   "id": "e57ec763",
   "metadata": {},
   "source": [
    "* In table 1.1, humor has a lexical diversity of 0.231.\n",
    "* Romance fiction has a lexical diversity of 0.121.\n",
    "* So, humor is more lexically diverse than romance fiction.\n",
    "\n"
   ]
  },
  {
   "cell_type": "code",
   "execution_count": 8,
   "id": "80593f96",
   "metadata": {},
   "outputs": [],
   "source": [
    "def lexical_diversity(text):\n",
    "    return len(set(text)) / len(text)"
   ]
  },
  {
   "cell_type": "markdown",
   "id": "26c6db77",
   "metadata": {},
   "source": [
    "#### Romance"
   ]
  },
  {
   "cell_type": "code",
   "execution_count": 9,
   "id": "f79a9b43",
   "metadata": {
    "scrolled": true
   },
   "outputs": [
    {
     "data": {
      "text/plain": [
       "<Text: Sense and Sensibility by Jane Austen 1811>"
      ]
     },
     "execution_count": 9,
     "metadata": {},
     "output_type": "execute_result"
    }
   ],
   "source": [
    "text2"
   ]
  },
  {
   "cell_type": "code",
   "execution_count": 10,
   "id": "d07aa459",
   "metadata": {
    "scrolled": true
   },
   "outputs": [
    {
     "data": {
      "text/plain": [
       "0.04826383002768831"
      ]
     },
     "execution_count": 10,
     "metadata": {},
     "output_type": "execute_result"
    }
   ],
   "source": [
    "lexical_diversity(text2)"
   ]
  },
  {
   "cell_type": "markdown",
   "id": "f2c10c01",
   "metadata": {},
   "source": [
    "#### Humor"
   ]
  },
  {
   "cell_type": "code",
   "execution_count": 11,
   "id": "34cbcf0c",
   "metadata": {
    "scrolled": true
   },
   "outputs": [
    {
     "data": {
      "text/plain": [
       "<Text: Monty Python and the Holy Grail>"
      ]
     },
     "execution_count": 11,
     "metadata": {},
     "output_type": "execute_result"
    }
   ],
   "source": [
    "text6"
   ]
  },
  {
   "cell_type": "code",
   "execution_count": 12,
   "id": "824b3ca7",
   "metadata": {
    "scrolled": false
   },
   "outputs": [
    {
     "data": {
      "text/plain": [
       "0.1276595744680851"
      ]
     },
     "execution_count": 12,
     "metadata": {},
     "output_type": "execute_result"
    }
   ],
   "source": [
    "lexical_diversity(text6)"
   ]
  },
  {
   "cell_type": "markdown",
   "id": "b673cc7b",
   "metadata": {
    "id": "b673cc7b"
   },
   "source": [
    "#### 6. Produce a dispersion plot of the four main protagonists in Sense and Sensibility: Elinor, Marianne, Edward, and Willoughby. What can you observe about the different roles played by the males and females in this novel? Can you identify the couples?"
   ]
  },
  {
   "cell_type": "code",
   "execution_count": 13,
   "id": "50c07520",
   "metadata": {
    "id": "50c07520",
    "outputId": "efd48623-1247-4682-e022-5fd43de89683"
   },
   "outputs": [
    {
     "data": {
      "image/png": "[encoded data removed]",
      "text/plain": [
       "<Figure size 432x288 with 1 Axes>"
      ]
     },
     "metadata": {
      "needs_background": "light"
     },
     "output_type": "display_data"
    }
   ],
   "source": [
    "text2.dispersion_plot([\"Elinor\", \"Marianne\", \"Edward\", \"Willoughby\"])"
   ]
  },
  {
   "cell_type": "markdown",
   "id": "62406cb4",
   "metadata": {
    "id": "62406cb4"
   },
   "source": [
    "The female characters in the novel are mentioned consistently throughout the whole text shown by their abundance of stripes in the dispersion plot, while the male characters are mentioned generally less throughout the text. The couples are either Elinor/Edward and Marianne/Willoughby, or Elinor/Willoughby and Marianne/Edward as Edward and Willoughby rarely are mentioned at the same time (thus, they cannot be a couple)."
   ]
  },
  {
   "cell_type": "markdown",
   "id": "cfc68128",
   "metadata": {
    "id": "cfc68128"
   },
   "source": [
    "#### 7. Find the collocations in text5."
   ]
  },
  {
   "cell_type": "code",
   "execution_count": 14,
   "id": "74b59e61",
   "metadata": {
    "id": "74b59e61",
    "outputId": "e325a0b0-7fbc-4072-dda9-efa909f1310b"
   },
   "outputs": [
    {
     "name": "stdout",
     "output_type": "stream",
     "text": [
      "wanna chat; PART JOIN; MODE #14-19teens; JOIN PART; PART PART;\n",
      "cute.-ass MP3; MP3 player; JOIN JOIN; times .. .; ACTION watches; guys\n",
      "wanna; song lasts; last night; ACTION sits; -...)...- S.M.R.; Lime\n",
      "Player; Player 12%; dont know; lez gurls; long time\n"
     ]
    }
   ],
   "source": [
    "text5.collocations()"
   ]
  },
  {
   "cell_type": "markdown",
   "id": "39def519",
   "metadata": {
    "id": "39def519"
   },
   "source": [
    "#### 8.  Consider the following Python expression: len(set(text4)). State the purpose of this expression. Describe the two steps involved in performing this computation."
   ]
  },
  {
   "cell_type": "code",
   "execution_count": 15,
   "id": "cea33dfa",
   "metadata": {
    "id": "cea33dfa",
    "outputId": "392ada56-f543-4261-c44b-fbedb37fd0ab"
   },
   "outputs": [
    {
     "data": {
      "text/plain": [
       "nltk.text.Text"
      ]
     },
     "execution_count": 15,
     "metadata": {},
     "output_type": "execute_result"
    }
   ],
   "source": [
    "type(text4)"
   ]
  },
  {
   "cell_type": "code",
   "execution_count": 16,
   "id": "4490abec",
   "metadata": {
    "id": "4490abec",
    "outputId": "e559a832-3024-4679-a4e6-b58248fbb8d2",
    "scrolled": true
   },
   "outputs": [
    {
     "data": {
      "text/plain": [
       "152901"
      ]
     },
     "execution_count": 16,
     "metadata": {},
     "output_type": "execute_result"
    }
   ],
   "source": [
    "len(text4)"
   ]
  },
  {
   "cell_type": "code",
   "execution_count": 17,
   "id": "7f4e69d2",
   "metadata": {
    "id": "7f4e69d2",
    "outputId": "d7a4e54d-77ae-4a06-a130-c0e07e0c40ba",
    "scrolled": true
   },
   "outputs": [
    {
     "data": {
      "text/plain": [
       "10025"
      ]
     },
     "execution_count": 17,
     "metadata": {},
     "output_type": "execute_result"
    }
   ],
   "source": [
    "len(set(text4))"
   ]
  },
  {
   "cell_type": "markdown",
   "id": "5ac77641",
   "metadata": {
    "id": "5ac77641"
   },
   "source": [
    "The function len() counts the number of tokens in the text including words and punctuation symbols. The function set() takes the vocabulary of a text or the set of tokens that the text uses by collapsing all duplicates together."
   ]
  },
  {
   "cell_type": "markdown",
   "id": "6317a59b",
   "metadata": {
    "id": "6317a59b"
   },
   "source": [
    "#### 9.  Review 2 on lists and strings.\n",
    "\n",
    "a. Define a string and assign it to a variable, e.g., my_string = 'My String' (but put something more interesting in the string). Print the contents of this variable in two ways, first by simply typing the variable name and pressing enter, then by using the print statement."
   ]
  },
  {
   "cell_type": "code",
   "execution_count": 18,
   "id": "6100fdad",
   "metadata": {
    "id": "6100fdad",
    "outputId": "a870bdc4-b9e3-4451-db60-547185825a8c"
   },
   "outputs": [
    {
     "data": {
      "text/plain": [
       "'Put something more interesting here'"
      ]
     },
     "execution_count": 18,
     "metadata": {},
     "output_type": "execute_result"
    }
   ],
   "source": [
    "string = 'Put something more interesting here'\n",
    "\n",
    "#Print using variable name & enter\n",
    "string"
   ]
  },
  {
   "cell_type": "code",
   "execution_count": 19,
   "id": "bbe730c1",
   "metadata": {
    "id": "bbe730c1",
    "outputId": "f792b59d-08d0-4201-c13e-d821392a9021"
   },
   "outputs": [
    {
     "name": "stdout",
     "output_type": "stream",
     "text": [
      "Put something more interesting here\n"
     ]
    }
   ],
   "source": [
    "# Print using print statement\n",
    "print(string)"
   ]
  },
  {
   "cell_type": "markdown",
   "id": "f3495d9c",
   "metadata": {
    "id": "f3495d9c",
    "outputId": "f995113a-dc1b-4d2b-abf9-a6aedca83706"
   },
   "source": [
    "b. Try adding the string to itself using my_string + my_string, or multiplying it by a number, e.g., my_string * 3. Notice that the strings are joined together without any spaces. How could you fix this?"
   ]
  },
  {
   "cell_type": "code",
   "execution_count": 20,
   "id": "aaadb1fb",
   "metadata": {
    "id": "aaadb1fb",
    "outputId": "15b7f39a-2da2-43d1-d9f6-59b65e8703f3"
   },
   "outputs": [
    {
     "data": {
      "text/plain": [
       "'Put something more interesting herePut something more interesting here'"
      ]
     },
     "execution_count": 20,
     "metadata": {},
     "output_type": "execute_result"
    }
   ],
   "source": [
    "string + string"
   ]
  },
  {
   "cell_type": "code",
   "execution_count": 21,
   "id": "93aff4de",
   "metadata": {
    "id": "93aff4de",
    "outputId": "d0b7ccb0-4153-457d-93fe-b46619849e7d",
    "scrolled": false
   },
   "outputs": [
    {
     "data": {
      "text/plain": [
       "'Put something more interesting here Put something more interesting here'"
      ]
     },
     "execution_count": 21,
     "metadata": {},
     "output_type": "execute_result"
    }
   ],
   "source": [
    "# Fixed\n",
    "string + \" \" + string"
   ]
  },
  {
   "cell_type": "code",
   "execution_count": 22,
   "id": "f3b359c7",
   "metadata": {
    "id": "f3b359c7",
    "outputId": "696a054e-2347-4352-bd4e-5c7364d0edd9"
   },
   "outputs": [
    {
     "data": {
      "text/plain": [
       "'Put something more interesting herePut something more interesting herePut something more interesting here'"
      ]
     },
     "execution_count": 22,
     "metadata": {},
     "output_type": "execute_result"
    }
   ],
   "source": [
    "string * 3"
   ]
  },
  {
   "cell_type": "code",
   "execution_count": 23,
   "id": "b47fe810",
   "metadata": {
    "id": "b47fe810",
    "outputId": "2d42b176-46e1-472c-cc9b-b98f75a5652d"
   },
   "outputs": [
    {
     "data": {
      "text/plain": [
       "'Put something more interesting here Put something more interesting here Put something more interesting here'"
      ]
     },
     "execution_count": 23,
     "metadata": {},
     "output_type": "execute_result"
    }
   ],
   "source": [
    "# Fixed\n",
    "string = \" Put something more interesting here\"\n",
    "(string * 3).strip()"
   ]
  },
  {
   "cell_type": "markdown",
   "id": "7db3d36e",
   "metadata": {
    "id": "7db3d36e"
   },
   "source": [
    "#### 10. Define a variable my_sent to be a list of words, using the syntax my_sent = [\"My\", \"sent\"] (but with your own words, or a favorite saying).\n",
    "\n",
    "a. Use ' '.join(my_sent) to convert this into a string."
   ]
  },
  {
   "cell_type": "code",
   "execution_count": 24,
   "id": "101ad423",
   "metadata": {
    "id": "101ad423"
   },
   "outputs": [],
   "source": [
    "my_sent = [\"This\",\"is\",\"my\",\"favorite\",\"saying.\"]"
   ]
  },
  {
   "cell_type": "code",
   "execution_count": 25,
   "id": "533982e6",
   "metadata": {
    "id": "533982e6",
    "outputId": "938d120e-c9f7-4c3f-d490-4a608f281144"
   },
   "outputs": [
    {
     "data": {
      "text/plain": [
       "'This is my favorite saying.'"
      ]
     },
     "execution_count": 25,
     "metadata": {},
     "output_type": "execute_result"
    }
   ],
   "source": [
    "my_sent_string = \" \".join(my_sent)\n",
    "my_sent_string"
   ]
  },
  {
   "cell_type": "markdown",
   "id": "638ddbc3",
   "metadata": {
    "id": "638ddbc3",
    "outputId": "f8d494b1-7a97-465b-8f20-83e49187a75a"
   },
   "source": [
    "b. Use split() to split the string back into the list form you had to start with."
   ]
  },
  {
   "cell_type": "code",
   "execution_count": 26,
   "id": "68085f8d",
   "metadata": {
    "id": "68085f8d",
    "outputId": "7cfbf6e3-a96e-4e26-b92d-3e338a0f7391"
   },
   "outputs": [
    {
     "data": {
      "text/plain": [
       "['This', 'is', 'my', 'favorite', 'saying.']"
      ]
     },
     "execution_count": 26,
     "metadata": {},
     "output_type": "execute_result"
    }
   ],
   "source": [
    "my_sent_split = my_sent_string.split()\n",
    "my_sent_split"
   ]
  },
  {
   "cell_type": "markdown",
   "id": "4b0b0b3d",
   "metadata": {
    "id": "4b0b0b3d"
   },
   "source": [
    "#### 11. Define several variables containing lists of words, e.g., phrase1, phrase2, and so on. Join them together in various combinations (using the plus operator) to form whole sentences. What is the relationship between len(phrase1 + phrase2) and len(phrase1) + len(phrase2)?"
   ]
  },
  {
   "cell_type": "code",
   "execution_count": 27,
   "id": "2857afae",
   "metadata": {
    "id": "2857afae"
   },
   "outputs": [],
   "source": [
    "phrase1 = [\"This\",\"is\",\"a\",\"list\",\"of\",\"words.\"]\n",
    "phrase2 = [\"Another\",\"day\",\"in\",\"paradise.\"]\n",
    "phrase3 = [\"Natural\",\"language\",\"processing.\"]"
   ]
  },
  {
   "cell_type": "code",
   "execution_count": 28,
   "id": "8f6d53f2",
   "metadata": {
    "id": "8f6d53f2",
    "outputId": "fefef384-b325-43a5-ffe0-9ac1f9f163ec"
   },
   "outputs": [
    {
     "data": {
      "text/plain": [
       "['This',\n",
       " 'is',\n",
       " 'a',\n",
       " 'list',\n",
       " 'of',\n",
       " 'words.',\n",
       " 'Another',\n",
       " 'day',\n",
       " 'in',\n",
       " 'paradise.',\n",
       " 'Natural',\n",
       " 'language',\n",
       " 'processing.']"
      ]
     },
     "execution_count": 28,
     "metadata": {},
     "output_type": "execute_result"
    }
   ],
   "source": [
    "phrase1 + phrase2 + phrase3"
   ]
  },
  {
   "cell_type": "code",
   "execution_count": 29,
   "id": "b84365a6",
   "metadata": {
    "id": "b84365a6",
    "outputId": "02837560-20ed-42e3-d3a6-a81b89979cf2",
    "scrolled": true
   },
   "outputs": [
    {
     "data": {
      "text/plain": [
       "True"
      ]
     },
     "execution_count": 29,
     "metadata": {},
     "output_type": "execute_result"
    }
   ],
   "source": [
    "len(phrase1 + phrase2) == len(phrase1) + len(phrase2)"
   ]
  },
  {
   "cell_type": "markdown",
   "id": "a8ab6f58",
   "metadata": {
    "id": "a8ab6f58"
   },
   "source": [
    "The relationship between len(phrase1 + phrase2) and len(phrase1) + len(phrase2) is the same."
   ]
  },
  {
   "cell_type": "markdown",
   "id": "07d4f959",
   "metadata": {
    "id": "07d4f959"
   },
   "source": [
    "#### 12.  Consider the following two expressions, which have the same value. Which one will typically be more relevant in NLP? Why?\n",
    "\n",
    "\"Monty Python\"[6:12]\n",
    "[\"Monty\", \"Python\"][1]"
   ]
  },
  {
   "cell_type": "code",
   "execution_count": 30,
   "id": "43f5db0e",
   "metadata": {
    "id": "43f5db0e",
    "outputId": "11cb5c7c-0512-49b9-cd40-0bb06d8fbc9a",
    "scrolled": true
   },
   "outputs": [
    {
     "data": {
      "text/plain": [
       "'Python'"
      ]
     },
     "execution_count": 30,
     "metadata": {},
     "output_type": "execute_result"
    }
   ],
   "source": [
    "a = \"Monty Python\"[6:12]\n",
    "a"
   ]
  },
  {
   "cell_type": "code",
   "execution_count": 31,
   "id": "64fd9743",
   "metadata": {
    "id": "64fd9743",
    "outputId": "adb65147-963b-4261-9c3d-9552e7ce2500",
    "scrolled": true
   },
   "outputs": [
    {
     "data": {
      "text/plain": [
       "'Python'"
      ]
     },
     "execution_count": 31,
     "metadata": {},
     "output_type": "execute_result"
    }
   ],
   "source": [
    "b = [\"Monty\",\"Python\"][1]\n",
    "b"
   ]
  },
  {
   "cell_type": "markdown",
   "id": "cb60d6b4",
   "metadata": {
    "id": "cb60d6b4"
   },
   "source": [
    "The second one is more relevant in NLP because when we have a list of words, it makes it easier to index based on words so that we can easily extract specific words or punctations."
   ]
  },
  {
   "cell_type": "markdown",
   "id": "d0e16463",
   "metadata": {
    "id": "d0e16463"
   },
   "source": [
    "#### 13.  We have seen how to represent a sentence as a list of words, where each word is a sequence of characters. What does sent1[2][2] do? Why? Experiment with other index values."
   ]
  },
  {
   "cell_type": "code",
   "execution_count": 32,
   "id": "89c9975b",
   "metadata": {
    "id": "89c9975b",
    "outputId": "16feaa6d-d748-4187-937c-972a876e7d57",
    "scrolled": true
   },
   "outputs": [
    {
     "data": {
      "text/plain": [
       "'h'"
      ]
     },
     "execution_count": 32,
     "metadata": {},
     "output_type": "execute_result"
    }
   ],
   "source": [
    "sent1[2][2]"
   ]
  },
  {
   "cell_type": "markdown",
   "id": "99d7d921",
   "metadata": {
    "id": "99d7d921",
    "outputId": "43d0aefd-51dd-4734-debe-33b07764482f"
   },
   "source": [
    "sent1[2][2] takes the 3rd item from the list which is the word Ishmael (index 2) and returns the 3rd character from the word which is the letter 'h' (2nd indexed character)."
   ]
  },
  {
   "cell_type": "code",
   "execution_count": 33,
   "id": "be15c178",
   "metadata": {
    "id": "be15c178",
    "outputId": "89b9ca0e-dfd6-4a7b-a21a-484909c4d93e"
   },
   "outputs": [
    {
     "data": {
      "text/plain": [
       "'Cal'"
      ]
     },
     "execution_count": 33,
     "metadata": {},
     "output_type": "execute_result"
    }
   ],
   "source": [
    "# Experimenting\n",
    "sent1[0][0:3]"
   ]
  },
  {
   "cell_type": "markdown",
   "id": "29b8ee91",
   "metadata": {
    "id": "29b8ee91"
   },
   "source": [
    "#### 14.  The first sentence of text3 is provided to you in the variable sent3. The index of the in sent3 is 1, because sent3[1] gives us 'the'. What are the indexes of the two other occurrences of this word in sent3?"
   ]
  },
  {
   "cell_type": "code",
   "execution_count": 34,
   "id": "b05948fc",
   "metadata": {
    "id": "b05948fc",
    "outputId": "acd1386e-923c-4d93-e0e4-eb520156e3ca"
   },
   "outputs": [
    {
     "name": "stdout",
     "output_type": "stream",
     "text": [
      "['In', 'the', 'beginning', 'God', 'created', 'the', 'heaven', 'and', 'the', 'earth', '.'] "
     ]
    }
   ],
   "source": [
    "print(sent3, end = ' ')"
   ]
  },
  {
   "cell_type": "code",
   "execution_count": 35,
   "id": "edc1a5e4",
   "metadata": {
    "id": "edc1a5e4",
    "outputId": "6ab453fe-c91c-40cb-ff5f-bafb49beb17b",
    "scrolled": true
   },
   "outputs": [
    {
     "data": {
      "text/plain": [
       "[1, 5, 8]"
      ]
     },
     "execution_count": 35,
     "metadata": {},
     "output_type": "execute_result"
    }
   ],
   "source": [
    "[i for i in range(len(sent3)) if sent3[i] == 'the']"
   ]
  },
  {
   "cell_type": "markdown",
   "id": "a6fda1e4",
   "metadata": {
    "id": "a6fda1e4",
    "outputId": "38cc65af-8e02-49bf-c4de-346649308b93",
    "scrolled": true
   },
   "source": [
    "The word 'the' occurs at Index 5 and Index 8."
   ]
  },
  {
   "cell_type": "markdown",
   "id": "ffd72a2f",
   "metadata": {
    "id": "ffd72a2f"
   },
   "source": [
    "#### 15.  Review the discussion of conditionals in 4. Find all words in the Chat Corpus (text5) starting with the letter b. Show them in alphabetical order."
   ]
  },
  {
   "cell_type": "code",
   "execution_count": 36,
   "id": "4256d88b",
   "metadata": {
    "id": "4256d88b",
    "outputId": "99d290a7-2825-4502-8463-3431c41b09d9",
    "scrolled": true
   },
   "outputs": [
    {
     "data": {
      "text/plain": [
       "['b',\n",
       " 'b-day',\n",
       " 'b/c',\n",
       " 'b4',\n",
       " 'babay',\n",
       " 'babble',\n",
       " 'babblein',\n",
       " 'babe',\n",
       " 'babes',\n",
       " 'babi',\n",
       " 'babies',\n",
       " 'babiess',\n",
       " 'baby',\n",
       " 'babycakeses',\n",
       " 'bachelorette',\n",
       " 'back',\n",
       " 'backatchya',\n",
       " 'backfrontsidewaysandallaroundtheworld',\n",
       " 'backroom',\n",
       " 'backup',\n",
       " 'bacl',\n",
       " 'bad',\n",
       " 'bag',\n",
       " 'bagel',\n",
       " 'bagels',\n",
       " 'bahahahaa',\n",
       " 'bak',\n",
       " 'baked',\n",
       " 'balad',\n",
       " 'balance',\n",
       " 'balck',\n",
       " 'ball',\n",
       " 'ballin',\n",
       " 'balls',\n",
       " 'ban',\n",
       " 'band',\n",
       " 'bandito',\n",
       " 'bandsaw',\n",
       " 'banjoes',\n",
       " 'banned',\n",
       " 'baord',\n",
       " 'bar',\n",
       " 'barbie',\n",
       " 'bare',\n",
       " 'barely',\n",
       " 'bares',\n",
       " 'barfights',\n",
       " 'barks',\n",
       " 'barn',\n",
       " 'barrel',\n",
       " 'base',\n",
       " 'bases',\n",
       " 'basically',\n",
       " 'basket',\n",
       " 'battery',\n",
       " 'bay',\n",
       " 'bbbbbyyyyyyyeeeeeeeee',\n",
       " 'bbiam',\n",
       " 'bbl',\n",
       " 'bbs',\n",
       " 'bc',\n",
       " 'be',\n",
       " 'beach',\n",
       " 'beachhhh',\n",
       " 'beam',\n",
       " 'beams',\n",
       " 'beanbag',\n",
       " 'beans',\n",
       " 'bear',\n",
       " 'bears',\n",
       " 'beat',\n",
       " 'beaten',\n",
       " 'beatles',\n",
       " 'beats',\n",
       " 'beattles',\n",
       " 'beautiful',\n",
       " 'because',\n",
       " 'beckley',\n",
       " 'become',\n",
       " 'bed',\n",
       " 'bedford',\n",
       " 'bedroom',\n",
       " 'beeeeehave',\n",
       " 'beeehave',\n",
       " 'been',\n",
       " 'beer',\n",
       " 'before',\n",
       " 'beg',\n",
       " 'begin',\n",
       " 'behave',\n",
       " 'behind',\n",
       " 'bein',\n",
       " 'being',\n",
       " 'beleive',\n",
       " 'believe',\n",
       " 'belive',\n",
       " 'bell',\n",
       " 'belly',\n",
       " 'belong',\n",
       " 'belongings',\n",
       " 'ben',\n",
       " 'bend',\n",
       " 'benz',\n",
       " 'bes',\n",
       " 'beside',\n",
       " 'besides',\n",
       " 'best',\n",
       " 'bet',\n",
       " 'betrayal',\n",
       " 'betta',\n",
       " 'better',\n",
       " 'between',\n",
       " 'beuty',\n",
       " 'bf',\n",
       " 'bi',\n",
       " 'biatch',\n",
       " 'bible',\n",
       " 'biebsa',\n",
       " 'bied',\n",
       " 'big',\n",
       " 'bigest',\n",
       " 'biggest',\n",
       " 'biiiatch',\n",
       " 'bike',\n",
       " 'bikes',\n",
       " 'bikini',\n",
       " 'bio',\n",
       " 'bird',\n",
       " 'birfday',\n",
       " 'birthday',\n",
       " 'bisexual',\n",
       " 'bishes',\n",
       " 'bit',\n",
       " 'bitch',\n",
       " 'bitches',\n",
       " 'bitdh',\n",
       " 'bite',\n",
       " 'bites',\n",
       " 'biyatch',\n",
       " 'biz',\n",
       " 'bj',\n",
       " 'black',\n",
       " 'blade',\n",
       " 'blah',\n",
       " 'blank',\n",
       " 'blankie',\n",
       " 'blazed',\n",
       " 'bleach',\n",
       " 'blech',\n",
       " 'bless',\n",
       " 'blessings',\n",
       " 'blew',\n",
       " 'blind',\n",
       " 'blinks',\n",
       " 'bliss',\n",
       " 'blocking',\n",
       " 'bloe',\n",
       " 'blood',\n",
       " 'blooded',\n",
       " 'bloody',\n",
       " 'blow',\n",
       " 'blowing',\n",
       " 'blowjob',\n",
       " 'blowup',\n",
       " 'blue',\n",
       " 'blueberry',\n",
       " 'bluer',\n",
       " 'blues',\n",
       " 'blunt',\n",
       " 'board',\n",
       " 'bob',\n",
       " 'bodies',\n",
       " 'body',\n",
       " 'boed',\n",
       " 'boght',\n",
       " 'boi',\n",
       " 'boing',\n",
       " 'boinked',\n",
       " 'bois',\n",
       " 'bomb',\n",
       " 'bone',\n",
       " 'boned',\n",
       " 'bones',\n",
       " 'bong',\n",
       " 'boning',\n",
       " 'bonus',\n",
       " 'boo',\n",
       " 'booboo',\n",
       " 'boobs',\n",
       " 'book',\n",
       " 'boom',\n",
       " 'boooooooooooglyyyyyy',\n",
       " 'boost',\n",
       " 'boot',\n",
       " 'bootay',\n",
       " 'booted',\n",
       " 'boots',\n",
       " 'booty',\n",
       " 'border',\n",
       " 'borderline',\n",
       " 'bored',\n",
       " 'boredom',\n",
       " 'boring',\n",
       " 'born',\n",
       " 'born-again',\n",
       " 'bosom',\n",
       " 'boss',\n",
       " 'bossy',\n",
       " 'bot',\n",
       " 'both',\n",
       " 'bother',\n",
       " 'bothering',\n",
       " 'bottle',\n",
       " 'bought',\n",
       " 'bounced',\n",
       " 'bouncer',\n",
       " 'bouncers',\n",
       " 'bound',\n",
       " 'bout',\n",
       " 'bouts',\n",
       " 'bow',\n",
       " 'bowl',\n",
       " 'box',\n",
       " 'boy',\n",
       " 'boyfriend',\n",
       " 'boys',\n",
       " 'bra',\n",
       " 'brad',\n",
       " 'brady',\n",
       " 'brain',\n",
       " 'brakes',\n",
       " 'brass',\n",
       " 'brat',\n",
       " 'brb',\n",
       " 'brbbb',\n",
       " 'bread',\n",
       " 'break',\n",
       " 'breaks',\n",
       " 'breath',\n",
       " 'breathe',\n",
       " 'bred',\n",
       " 'breeding',\n",
       " 'bright',\n",
       " 'brightened',\n",
       " 'bring',\n",
       " 'brings',\n",
       " 'bro',\n",
       " 'broke',\n",
       " 'brooklyn',\n",
       " 'brother',\n",
       " 'brothers',\n",
       " 'brought',\n",
       " 'brown',\n",
       " 'brrrrrrr',\n",
       " 'bruises',\n",
       " 'brunswick',\n",
       " 'brwn',\n",
       " 'btw',\n",
       " 'bucks',\n",
       " 'buddyyyyyy',\n",
       " 'buff',\n",
       " 'buffalo',\n",
       " 'bug',\n",
       " 'bugs',\n",
       " 'buh',\n",
       " 'build',\n",
       " 'builds',\n",
       " 'built',\n",
       " 'bull',\n",
       " 'bulls',\n",
       " 'bum',\n",
       " 'bumber',\n",
       " 'bummer',\n",
       " 'bumped',\n",
       " 'bumper',\n",
       " 'bunch',\n",
       " 'bunny',\n",
       " 'burger',\n",
       " 'burito',\n",
       " 'burned',\n",
       " 'burns',\n",
       " 'burp',\n",
       " 'burpin',\n",
       " 'burps',\n",
       " 'burried',\n",
       " 'burryed',\n",
       " 'bus',\n",
       " 'buses',\n",
       " 'bust',\n",
       " 'busted',\n",
       " 'busy',\n",
       " 'but',\n",
       " 'butt',\n",
       " 'butter',\n",
       " 'butterscotch',\n",
       " 'button',\n",
       " 'buttons',\n",
       " 'buy',\n",
       " 'buying',\n",
       " 'bwahahahahahahahahahaha',\n",
       " 'by',\n",
       " 'byb',\n",
       " 'bye',\n",
       " 'byeee',\n",
       " 'byeeee',\n",
       " 'byeeeeeeee',\n",
       " 'byeeeeeeeeeeeee',\n",
       " 'byes']"
      ]
     },
     "execution_count": 36,
     "metadata": {},
     "output_type": "execute_result"
    }
   ],
   "source": [
    "sorted(w for w in set(text5) if w.startswith(\"b\"))"
   ]
  },
  {
   "cell_type": "markdown",
   "id": "2323ec09",
   "metadata": {
    "id": "2323ec09"
   },
   "source": [
    "#### 16. Type the expression list(range(10)) at the interpreter prompt. Now try list(range(10, 20)), list(range(10, 20, 2)), and list(range(20, 10, -2)). We will see a variety of uses for this built-in function in later chapters."
   ]
  },
  {
   "cell_type": "code",
   "execution_count": 37,
   "id": "f6d9f39a",
   "metadata": {
    "id": "f6d9f39a",
    "outputId": "2cb5a30a-48ca-4605-9d32-5ed3e0c422e2"
   },
   "outputs": [
    {
     "data": {
      "text/plain": [
       "[0, 1, 2, 3, 4, 5, 6, 7, 8, 9]"
      ]
     },
     "execution_count": 37,
     "metadata": {},
     "output_type": "execute_result"
    }
   ],
   "source": [
    "list(range(10))"
   ]
  },
  {
   "cell_type": "code",
   "execution_count": 38,
   "id": "779a2620",
   "metadata": {
    "id": "779a2620",
    "outputId": "8dd8ce47-b9d3-42e3-f308-6cf80a6c4d9e"
   },
   "outputs": [
    {
     "data": {
      "text/plain": [
       "[10, 11, 12, 13, 14, 15, 16, 17, 18, 19]"
      ]
     },
     "execution_count": 38,
     "metadata": {},
     "output_type": "execute_result"
    }
   ],
   "source": [
    "list(range(10,20))"
   ]
  },
  {
   "cell_type": "code",
   "execution_count": 39,
   "id": "8ceafb07",
   "metadata": {
    "id": "8ceafb07",
    "outputId": "aca3f8a7-76d7-469d-f792-c53d05a12bda"
   },
   "outputs": [
    {
     "data": {
      "text/plain": [
       "[10, 12, 14, 16, 18]"
      ]
     },
     "execution_count": 39,
     "metadata": {},
     "output_type": "execute_result"
    }
   ],
   "source": [
    "list(range(10, 20, 2))"
   ]
  },
  {
   "cell_type": "code",
   "execution_count": 40,
   "id": "0a259460",
   "metadata": {
    "id": "0a259460",
    "outputId": "a0af5984-cf25-459d-f720-6bbd03aef958"
   },
   "outputs": [
    {
     "data": {
      "text/plain": [
       "[20, 18, 16, 14, 12]"
      ]
     },
     "execution_count": 40,
     "metadata": {},
     "output_type": "execute_result"
    }
   ],
   "source": [
    "list(range(20, 10, -2))"
   ]
  },
  {
   "cell_type": "markdown",
   "id": "7e4767c4",
   "metadata": {
    "id": "7e4767c4"
   },
   "source": [
    "#### 17.  Use text9.index() to find the index of the word sunset. You'll need to insert this word as an argument between the parentheses. By a process of trial and error, find the slice for the complete sentence that contains this word."
   ]
  },
  {
   "cell_type": "code",
   "execution_count": 41,
   "id": "15a472d4",
   "metadata": {
    "id": "15a472d4",
    "outputId": "47ab2546-da79-4bc7-d33c-cb4d65eb4048"
   },
   "outputs": [
    {
     "data": {
      "text/plain": [
       "629"
      ]
     },
     "execution_count": 41,
     "metadata": {},
     "output_type": "execute_result"
    }
   ],
   "source": [
    "text9.index(\"sunset\")"
   ]
  },
  {
   "cell_type": "code",
   "execution_count": 42,
   "id": "9805b426",
   "metadata": {
    "id": "9805b426",
    "outputId": "b8cd9d64-72e2-4522-e575-3b6813d19506",
    "scrolled": true
   },
   "outputs": [
    {
     "data": {
      "text/plain": [
       "['THE',\n",
       " 'suburb',\n",
       " 'of',\n",
       " 'Saffron',\n",
       " 'Park',\n",
       " 'lay',\n",
       " 'on',\n",
       " 'the',\n",
       " 'sunset',\n",
       " 'side',\n",
       " 'of',\n",
       " 'London',\n",
       " ',',\n",
       " 'as',\n",
       " 'red',\n",
       " 'and',\n",
       " 'ragged',\n",
       " 'as',\n",
       " 'a',\n",
       " 'cloud',\n",
       " 'of',\n",
       " 'sunset',\n",
       " '.']"
      ]
     },
     "execution_count": 42,
     "metadata": {},
     "output_type": "execute_result"
    }
   ],
   "source": [
    "text9[621 : 644]"
   ]
  },
  {
   "cell_type": "markdown",
   "id": "744b451b",
   "metadata": {
    "id": "744b451b",
    "outputId": "f58c7544-ba23-476b-d074-4f3fbd8e9f9c"
   },
   "source": [
    "with a for-loop and a conditional that could be generalized for other sentences:"
   ]
  },
  {
   "cell_type": "code",
   "execution_count": 43,
   "id": "i94cVruUcR55",
   "metadata": {
    "id": "i94cVruUcR55",
    "outputId": "05439b18-e72e-4ee1-fb32-091e4209aa41"
   },
   "outputs": [
    {
     "name": "stdout",
     "output_type": "stream",
     "text": [
      "CHAPTER I THE TWO POETS OF SAFFRON PARK THE suburb of Saffron Park lay on the sunset side of London, as red and ragged as a cloud of sunset. \n"
     ]
    }
   ],
   "source": [
    "full_sent = \"\"\n",
    "alpha_text = []\n",
    "\n",
    "for i in range(613, 644):\n",
    "    \n",
    "    if text9[i].isalpha():\n",
    "        alpha_text.append(text9[i])\n",
    "    else:\n",
    "        full_sent += (' '.join(alpha_text) + text9[i] + ' ')\n",
    "        alpha_text = []\n",
    "        \n",
    "print(full_sent)"
   ]
  },
  {
   "cell_type": "markdown",
   "id": "9935276d",
   "metadata": {
    "id": "9935276d"
   },
   "source": [
    "#### 18. Using list addition, and the set and sorted operations, compute the vocabulary of the sentences sent1 ... sent8."
   ]
  },
  {
   "cell_type": "code",
   "execution_count": 44,
   "id": "85cadac3",
   "metadata": {
    "id": "85cadac3",
    "outputId": "1af4a767-69f9-4647-8889-ced29f759fd0",
    "scrolled": true
   },
   "outputs": [
    {
     "data": {
      "text/plain": [
       "['!', ',', '-', '.', '1', '25', '29', '61', ':', 'ARTHUR']"
      ]
     },
     "execution_count": 44,
     "metadata": {},
     "output_type": "execute_result"
    }
   ],
   "source": [
    "sorted_set = sorted(set(sent1 + sent2 + sent3 + sent4 + sent5 + sent6 + sent7 + sent8))\n",
    "sorted_set[:10]"
   ]
  },
  {
   "cell_type": "code",
   "execution_count": 45,
   "id": "0ad1608a",
   "metadata": {
    "id": "0ad1608a",
    "outputId": "6caac32e-1d3c-42d9-d558-642fe39b7687"
   },
   "outputs": [
    {
     "name": "stdout",
     "output_type": "stream",
     "text": [
      "{'clop', 'dashwood', 'citizens', 'pierre', 'join', 'of', 'problem', 'encounters', 'whoa', 'for', 'board', 'been', 'will', 'arthur', 'male', 'director', 'had', 'as', 'vinken', 'call', 'family', 'there', 'nonexecutive', 'and', 'with', 'god', 'seeks', 'settled', 'years', 'in', 'scene', 'discreet', 'senate', 'created', 'single', 'ishmael', 'heaven', 'older', 'have', 'wind', 'earth', 'the', 'old', 'house', 'beginning', 'a', 'pming', 'to', 'king', 'attrac', 'lady', 'sexy', 'long', 'me', 'sussex', 'representatives', 'i', 'lol', 'fellow', 'people'}\n"
     ]
    }
   ],
   "source": [
    "# if we should only include alphabet characters and ignore cases.\n",
    "alpha_set = set([t.lower() for t in sorted_set if t.isalpha()])\n",
    "print(alpha_set)"
   ]
  },
  {
   "cell_type": "code",
   "execution_count": 46,
   "id": "db7f9c74",
   "metadata": {
    "id": "db7f9c74",
    "outputId": "844beb7f-b38f-4ddd-94de-8eaa9083e7d3"
   },
   "outputs": [
    {
     "data": {
      "text/plain": [
       "60"
      ]
     },
     "execution_count": 46,
     "metadata": {},
     "output_type": "execute_result"
    }
   ],
   "source": [
    "len(alpha_set)"
   ]
  },
  {
   "cell_type": "markdown",
   "id": "24fb16be",
   "metadata": {
    "id": "24fb16be"
   },
   "source": [
    "#### 19. What is the difference between the following two lines? Which one will give a larger value? Will this be the case for other texts?\n",
    " - sorted(set(w.lower() for w in text1))\n",
    " - sorted(w.lower() for w in set(text1))"
   ]
  },
  {
   "cell_type": "code",
   "execution_count": 47,
   "id": "091829e8",
   "metadata": {
    "id": "091829e8",
    "outputId": "137d08cb-8de1-46f1-85aa-89f7a7b4d7db"
   },
   "outputs": [
    {
     "data": {
      "text/plain": [
       "17231"
      ]
     },
     "execution_count": 47,
     "metadata": {},
     "output_type": "execute_result"
    }
   ],
   "source": [
    "len(sorted(set(w.lower() for w in text1)))"
   ]
  },
  {
   "cell_type": "code",
   "execution_count": 48,
   "id": "13be4bb7",
   "metadata": {
    "id": "13be4bb7",
    "outputId": "f72958c8-b51c-4f88-e33a-0a66d1f9a3a4"
   },
   "outputs": [
    {
     "data": {
      "text/plain": [
       "19317"
      ]
     },
     "execution_count": 48,
     "metadata": {},
     "output_type": "execute_result"
    }
   ],
   "source": [
    "len(sorted(w.lower() for w in set(text1)))"
   ]
  },
  {
   "cell_type": "markdown",
   "id": "482e311f",
   "metadata": {
    "id": "482e311f"
   },
   "source": [
    "the second one will give a larger value. Because it firstly execute set(text1), which contains same word in different case. Consiquently the final list will include duplicate words. While the first one will execute set() just before sorting, so it won't include duplications."
   ]
  },
  {
   "cell_type": "markdown",
   "id": "dcd41092",
   "metadata": {
    "id": "dcd41092"
   },
   "source": [
    "#### 20.  What is the difference between the following two tests: w.isupper() and not w.islower()?"
   ]
  },
  {
   "cell_type": "markdown",
   "id": "8cda76d2",
   "metadata": {
    "id": "8cda76d2"
   },
   "source": [
    "Being upper case doesn't equal to not being lower case. w can contain both capital letters and lower case letters, and even other elements that are not alphabet character. In this both w.isupper() and w.islower() will return False, but 'not w.islower()' will return True.\n",
    "\n",
    "* w.isupper() returns True when every character in w is upper case.\n",
    "* not w.islower() returns True when there is a character in w which is not upper case.\n"
   ]
  },
  {
   "cell_type": "code",
   "execution_count": 49,
   "id": "b3ecf095",
   "metadata": {
    "id": "b3ecf095",
    "outputId": "c7009eb7-15c4-4886-ffe8-3e69d2a18771"
   },
   "outputs": [
    {
     "data": {
      "text/plain": [
       "False"
      ]
     },
     "execution_count": 49,
     "metadata": {},
     "output_type": "execute_result"
    }
   ],
   "source": [
    "'Hello'.isupper()"
   ]
  },
  {
   "cell_type": "code",
   "execution_count": 50,
   "id": "95c89758",
   "metadata": {
    "id": "95c89758",
    "outputId": "5e376f1c-8a88-49df-80e7-203aabfb2b45"
   },
   "outputs": [
    {
     "data": {
      "text/plain": [
       "True"
      ]
     },
     "execution_count": 50,
     "metadata": {},
     "output_type": "execute_result"
    }
   ],
   "source": [
    "not 'Hello'.islower()"
   ]
  },
  {
   "cell_type": "markdown",
   "id": "44f1211f",
   "metadata": {
    "id": "44f1211f"
   },
   "source": [
    "#### 21. Write the slice expression that extracts the last two words of text2."
   ]
  },
  {
   "cell_type": "code",
   "execution_count": 51,
   "id": "0362fc88",
   "metadata": {
    "id": "0362fc88",
    "outputId": "41efabdc-e142-481d-809c-dadbfebe8ff5"
   },
   "outputs": [
    {
     "data": {
      "text/plain": [
       "['THE', 'END']"
      ]
     },
     "execution_count": 51,
     "metadata": {},
     "output_type": "execute_result"
    }
   ],
   "source": [
    "text2[-2:]"
   ]
  },
  {
   "cell_type": "markdown",
   "id": "4b308ab6",
   "metadata": {
    "id": "4b308ab6"
   },
   "source": [
    "#### 22. Find all the four-letter words in the Chat Corpus (text5). With the help of a frequency distribution (FreqDist), show these words in decreasing order of frequency."
   ]
  },
  {
   "cell_type": "code",
   "execution_count": 52,
   "id": "4bffb722",
   "metadata": {
    "id": "4bffb722",
    "outputId": "8c9b42de-d7b2-4fad-9f93-88b7205c38f0"
   },
   "outputs": [
    {
     "name": "stdout",
     "output_type": "stream",
     "text": [
      "[('part', 1022), ('join', 1021), ('that', 284), ('what', 201), ('here', 185), ('have', 171), ('like', 160), ('with', 154), ('chat', 146), ('your', 142), ('good', 132), ('lmao', 128), ('just', 128), ('know', 104), ('room', 103), ('this', 98), ('from', 96), ('well', 91), ('yeah', 85), ('hiya', 85), ('they', 84), ('back', 79), ('dont', 77), ('want', 71), ('love', 63), ('guys', 59), ('some', 59), ('talk', 58), ('been', 58), ('nice', 54), ('when', 54), ('time', 52), ('haha', 46), ('girl', 45), ('make', 44), ('need', 44), ('will', 42), ('song', 42), ('mode', 42), ('then', 41), ('much', 40), ('over', 40), ('were', 39), ('take', 38), ('does', 38), ('work', 38), ('even', 37), ('only', 36), ('damn', 36), ('seen', 36), ('come', 36), ('more', 35), ('nick', 33), ('long', 30), ('hell', 29), ('last', 29), ('tell', 29), ('name', 28), ('away', 28), ('sure', 28), ('them', 28), ('look', 27), ('baby', 26), ('call', 26), ('down', 26), ('cool', 26), ('sexy', 25), ('play', 25), ('many', 23), ('hate', 23), ('said', 23), ('same', 23), ('live', 23), ('stop', 23), ('life', 22), ('ever', 22), ('hear', 21), ('very', 20), ('feel', 19), ('hugs', 19), ('mean', 19), ('give', 19), ('must', 19), ('find', 18), ('cant', 18), ('left', 17), ('fine', 17), ('lets', 17), ('shit', 17), ('nite', 17), ('busy', 17), ('hair', 17), ('lost', 17), ('eyes', 16), ('real', 16), ('heya', 16), ('game', 16), ('fuck', 15), ('sits', 15), ('kill', 15), ('read', 14), ('else', 14), ('shut', 14), ('wait', 14), ('goes', 14), ('keep', 14), ('nope', 14), ('true', 14), ('male', 13), ('pick', 13), ('free', 13), ('near', 13), ('awww', 13), ('hope', 12), ('head', 12), ('than', 12), ('kids', 12), ('face', 12), ('gets', 12), ('cold', 12), ('hehe', 12), ('bout', 12), ('home', 12), ('stay', 12), ('used', 12), ('told', 12), ('yall', 12), ('days', 11), ('hard', 11), ('show', 11), ('doin', 11), ('perv', 11), ('wont', 11), ('dang', 11), ('year', 11), ('babe', 11), ('help', 11), ('into', 11), ('type', 10), ('heyy', 10), ('rock', 10), ('mine', 10), ('once', 10), ('care', 10), ('mind', 10), ('kiss', 10), ('week', 10), ('liam', 10), ('pics', 9), ('such', 9), ('best', 9), ('neck', 9), ('dead', 9), ('okay', 9), ('runs', 9), ('aint', 9), ('book', 9), ('crap', 9), ('soon', 9), ('full', 9), ('hour', 9), ('ahhh', 9), ('sick', 9), ('hmmm', 9), ('hand', 8), ('word', 8), ('rule', 8), ('poor', 8), ('dude', 8), ('case', 8), ('wana', 8), ('hows', 8), ('went', 8), ('lady', 8), ('oops', 8), ('blue', 8), ('kick', 8), ('says', 8), ('suck', 8), ('made', 8), ('wife', 8), ('sang', 8), ('fast', 7), ('alot', 7), ('none', 7), ('took', 7), ('wear', 7), ('kool', 7), ('dear', 7), ('food', 7), ('late', 6), ('most', 6), ('ummm', 6), ('thru', 6), ('caps', 6), ('list', 6), ('came', 6), ('seem', 6), ('cali', 6), ('sing', 6), ('next', 6), ('done', 6), ('ride', 6), ('comp', 6), ('high', 6), ('main', 6), ('goin', 6), ('pink', 6), ('gone', 6), ('ohhh', 6), ('knew', 6), ('ball', 6), ('send', 6), ('woot', 6), ('blah', 6), ('whos', 6), ('yoko', 6), ('sock', 6), ('legs', 5), ('fire', 5), ('warm', 5), ('turn', 5), ('hang', 5), ('miss', 5), ('boys', 5), ('land', 5), ('huge', 5), ('nose', 5), ('lick', 5), ('wish', 5), ('quit', 5), ('roll', 5), ('easy', 5), ('lose', 5), ('cute', 5), ('holy', 5), ('soul', 5), ('luck', 5), ('also', 5), ('evil', 5), ('fall', 5), ('lord', 5), ('boss', 5), ('beer', 5), ('wall', 5), ('meet', 5), ('till', 5), ('feet', 5), ('xbox', 5), ('idea', 5), ('heck', 5), ('joke', 5), ('fool', 5), ('felt', 5), ('kent', 5), ('meds', 5), ('both', 5), ('lime', 5), ('drew', 4), ('glad', 4), ('jerk', 4), ('ugly', 4), ('date', 4), ('lies', 4), ('rest', 4), ('door', 4), ('self', 4), ('pass', 4), ('line', 4), ('hook', 4), ('ohio', 4), ('each', 4), ('swim', 4), ('open', 4), ('ouch', 4), ('fart', 4), ('grrr', 4), ('pain', 4), ('hawt', 4), ('wind', 4), ('pfft', 4), ('sigh', 4), ('rofl', 4), ('shes', 4), ('mary', 4), ('mmmm', 4), ('ones', 4), ('shot', 4), ('team', 4), ('hott', 4), ('ways', 4), ('road', 4), ('beat', 4), ('hail', 4), ('elle', 4), ('lame', 4), ('john', 4), ('puff', 4), ('tisk', 4), ('clap', 3), ('itch', 3), ('guyz', 3), ('gold', 3), ('ring', 3), ('isnt', 3), ('deep', 3), ('phil', 3), ('deal', 3), ('wash', 3), ('piff', 3), ('jump', 3), ('whoa', 3), ('gosh', 3), ('band', 3), ('orgy', 3), ('slap', 3), ('hold', 3), ('soft', 3), ('bend', 3), ('toss', 3), ('amen', 3), ('rain', 3), ('deop', 3), ('roof', 3), ('ahem', 3), ('hola', 3), ('drop', 3), ('butt', 3), ('imma', 3), ('town', 3), ('elev', 3), ('akdt', 3), ('lead', 3), ('ding', 3), ('note', 3), ('gawd', 3), ('half', 3), ('ello', 3), ('hick', 3), ('city', 3), ('wine', 3), ('hiii', 3), ('bare', 3), ('vote', 3), ('wack', 3), ('snow', 3), ('hurt', 3), ('born', 3), ('move', 3), ('walk', 3), ('yawn', 3), ('nana', 3), ('hump', 3), ('yada', 3), ('kewl', 3), ('tune', 3), ('hank', 3), ('slow', 3), ('rubs', 3), ('skin', 3), ('died', 3), ('army', 3), ('wazz', 3), ('toes', 3), ('golf', 2), ('cast', 2), ('slip', 2), ('opps', 2), ('plan', 2), ('deaf', 2), ('hmph', 2), ('bite', 2), ('mins', 2), ('eats', 2), ('cell', 2), ('cmon', 2), ('wats', 2), ('kind', 2), ('mike', 2), ('dumb', 2), ('park', 2), ('loud', 2), ('mama', 2), ('whip', 2), ('pour', 2), ('twin', 2), ('burp', 2), ('kold', 2), ('blew', 2), ('temp', 2), ('corn', 2), ('pool', 2), ('cash', 2), ('ears', 2), ('porn', 2), ('heal', 2), ('ciao', 2), ('typo', 2), ('halo', 2), ('eric', 2), ('sore', 2), ('size', 2), ('hits', 2), ('past', 2), ('meat', 2), ('argh', 2), ('limp', 2), ('rent', 2), ('cars', 2), ('shop', 2), ('five', 2), ('sell', 2), ('yard', 2), ('grrl', 2), ('chip', 2), ('bear', 2), ('foot', 2), ('uses', 2), ('sort', 2), ('hill', 2), ('mono', 2), ('whud', 2), ('bone', 2), ('club', 2), ('adds', 2), ('area', 2), ('humm', 2), ('newp', 2), ('gays', 2), ('pmsl', 2), ('zone', 2), ('hint', 2), ('spin', 2), ('ewww', 2), ('pies', 2), ('doll', 2), ('gimp', 2), ('spot', 2), ('ages', 2), ('clue', 2), ('mass', 2), ('flow', 2), ('west', 2), ('rang', 2), ('hall', 2), ('haze', 2), ('seee', 2), ('sooo', 2), ('cost', 2), ('trip', 2), ('babi', 2), ('rich', 2), ('teck', 2), ('moon', 2), ('yeas', 2), ('wooo', 2), ('tick', 2), ('tock', 2), ('rush', 2), ('side', 2), ('howz', 2), ('root', 2), ('tyvm', 2), ('luvs', 2), ('fits', 2), ('sand', 2), ('king', 2), ('ltns', 2), ('flaw', 2), ('aunt', 2), ('lawl', 2), ('tiff', 2), ('draw', 1), ('docs', 1), ('fade', 1), ('bowl', 1), ('bong', 1), ('ogan', 1), ('cams', 1), ('gooo', 1), ('yeee', 1), ('ahah', 1), ('jeep', 1), ('vbox', 1), ('serg', 1), ('bein', 1), ('whys', 1), ('tape', 1), ('sexs', 1), ('form', 1), ('nads', 1), ('owww', 1), ('gags', 1), ('meep', 1), ('lool', 1), ('kina', 1), ('sext', 1), ('lazy', 1), ('calm', 1), ('arms', 1), ('smax', 1), ('vvil', 1), ('este', 1), ('chik', 1), ('boyz', 1), ('coat', 1), ('dawn', 1), ('mauh', 1), ('ques', 1), ('ruff', 1), ('mame', 1), ('nada', 1), ('push', 1), ('prob', 1), ('wild', 1), ('whew', 1), ('dark', 1), ('waht', 1), ('test', 1), ('boot', 1), ('hiom', 1), ('dman', 1), ('jail', 1), ('cops', 1), ('hogs', 1), ('peek', 1), ('ctrl', 1), ('hots', 1), ('frst', 1), ('crop', 1), ('bomb', 1), ('eeek', 1), ('tjhe', 1), ('heee', 1), ('peel', 1), ('fock', 1), ('exit', 1), ('mris', 1), ('buff', 1), ('plus', 1), ('tory', 1), ('knee', 1), ('oooh', 1), ('lala', 1), ('fake', 1), ('ssid', 1), ('poot', 1), ('poop', 1), ('bird', 1), ('plow', 1), ('thnx', 1), ('card', 1), ('uyes', 1), ('benz', 1), ('disc', 1), ('bloe', 1), ('blow', 1), ('hooo', 1), ('thje', 1), ('jess', 1), ('term', 1), ('tina', 1), ('ooer', 1), ('anal', 1), ('dojn', 1), ('wubs', 1), ('mkay', 1), ('spat', 1), ('gees', 1), ('puts', 1), ('fish', 1), ('syck', 1), ('tere', 1), ('sent', 1), ('werd', 1), ('nawt', 1), ('sign', 1), ('woof', 1), ('ghet', 1), ('brad', 1), ('offa', 1), ('dood', 1), ('sink', 1), ('cums', 1), ('loss', 1), ('wrap', 1), ('hide', 1), ('okey', 1), ('worl', 1), ('cepn', 1), ('lots', 1), ('nawp', 1), ('addy', 1), ('lake', 1), ('mite', 1), ('wood', 1), ('orta', 1), ('wins', 1), ('ebay', 1), ('coem', 1), ('giva', 1), ('ally', 1), ('judy', 1), ('cyas', 1), ('shup', 1), ('tooo', 1), ('choc', 1), ('wher', 1), ('whoo', 1), ('dint', 1), ('tend', 1), ('menu', 1), ('lust', 1), ('nods', 1), ('kept', 1), ('scuk', 1), ('raed', 1), ('bugs', 1), ('nerd', 1), ('pimp', 1), ('haaa', 1), ('hero', 1), ('joey', 1), ('jane', 1), ('span', 1), ('wore', 1), ('pasa', 1), ('barn', 1), ('feat', 1), ('dork', 1), ('laid', 1), ('herd', 1), ('tide', 1), ('jush', 1), ('grlz', 1), ('lung', 1), ('lion', 1), ('brat', 1), ('muah', 1), ('fawk', 1), ('dust', 1), ('seth', 1), ('abou', 1), ('tthe', 1), ('pork', 1), ('mark', 1), ('dotn', 1), ('gift', 1), ('outs', 1), ('paul', 1), ('outa', 1), ('york', 1), ('fear', 1), ('dies', 1), ('givs', 1), ('bust', 1), ('xmas', 1), ('enuf', 1), ('eeww', 1), ('dick', 1), ('fair', 1), ('lyin', 1), ('lois', 1), ('cuss', 1), ('rape', 1), ('geez', 1), ('tart', 1), ('hgey', 1), ('caan', 1), ('nude', 1), ('allo', 1), ('yesh', 1), ('reub', 1), ('heat', 1), ('kmph', 1), ('pope', 1), ('yess', 1), ('duet', 1), ('wuts', 1), ('quiz', 1), ('scar', 1), ('pair', 1), ('bell', 1), ('dawg', 1), ('febe', 1), ('prof', 1), ('jude', 1), ('whou', 1), ('idnt', 1), ('perk', 1), ('http', 1), ('yell', 1), ('mang', 1), ('ssri', 1), ('cure', 1), ('wean', 1), ('post', 1), ('anti', 1), ('noth', 1), ('tall', 1), ('pray', 1), ('weed', 1), ('icky', 1), ('rick', 1), ('spit', 1), ('lube', 1), ('mami', 1), ('east', 1), ('seat', 1), ('cock', 1), ('otay', 1), ('firs', 1), ('site', 1), ('dump', 1), ('toop', 1), ('four', 1), ('sets', 1), ('asss', 1), ('paid', 1), ('iowa', 1), ('jeff', 1), ('crib', 1), ('drug', 1), ('cook', 1), ('ladz', 1), ('aime', 1), ('hong', 1), ('kong', 1), ('tits', 1), ('gret', 1), ('guns', 1), ('inch', 1), ('sean', 1), ('howl', 1), ('slam', 1), ('pine', 1), ('puke', 1), ('waaa', 1), ('urls', 1), ('star', 1), ('save', 1), ('sori', 1), ('poem', 1), ('jack', 1), ('junk', 1), ('tips', 1), ('nooo', 1), ('troy', 1), ('tail', 1), ('dyed', 1), ('beam', 1), ('daft', 1), ('twit', 1), ('scum', 1), ('toke', 1), ('ribs', 1), ('eggs', 1), ('wyte', 1), ('moms', 1), ('goof', 1), ('able', 1), ('vamp', 1), ('ther', 1), ('text', 1), ('gear', 1), ('matt', 1), ('ntmn', 1), ('grea', 1), ('guts', 1), ('wrek', 1), ('fort', 1), ('akst', 1), ('wire', 1), ('soda', 1), ('gray', 1), ('tlak', 1), ('ltnc', 1), ('sayn', 1), ('evah', 1), ('bike', 1), ('ohwa', 1), ('caca', 1), ('prep', 1), ('pull', 1), ('dirt', 1), ('vent', 1), ('safe', 1), ('dogs', 1), ('bull', 1), ('asks', 1), ('chit', 1), ('grin', 1), ('bred', 1), ('rats', 1), ('samn', 1), ('nuff', 1), ('rose', 1), ('ruth', 1), ('grew', 1), ('mena', 1), ('lapd', 1), ('surf', 1), ('hazy', 1), ('thot', 1), ('acid', 1), ('wide', 1), ('keys', 1), ('salt', 1), ('mess', 1), ('base', 1), ('byes', 1), ('yout', 1), ('numb', 1), ('thah', 1), ('mahn', 1), ('soup', 1), ('vega', 1), ('pigs', 1), ('poof', 1), ('nova', 1), ('mofo', 1), ('sips', 1), ('clay', 1), ('bacl', 1), ('body', 1), ('akon', 1), ('yoll', 1), ('boom', 1), ('news', 1), ('maps', 1), ('page', 1), ('chop', 1), ('typr', 1), ('poll', 1), ('boed', 1), ('pwns', 1), ('sexi', 1), ('bois', 1), ('bied', 1), ('uhhh', 1), ('tenn', 1), ('pure', 1), ('gals', 1), ('woah', 1), ('ussy', 1), ('heys', 1), ('lisa', 1), ('brwn', 1), ('hurr', 1)]\n"
     ]
    }
   ],
   "source": [
    "# If we do not include values with symbols, the four-letter words in text 5 would be:\n",
    "fdist = FreqDist(w.lower() for w in text5)\n",
    "lst_fdist = fdist.most_common()\n",
    "res = [w for w in lst_fdist if w[0].isalpha() and len(w[0]) == 4]#not sure if numbers should be included\n",
    "print(res)"
   ]
  },
  {
   "cell_type": "markdown",
   "id": "fa547eb6",
   "metadata": {
    "id": "fa547eb6"
   },
   "source": [
    "#### 23. Review the discussion of looping with conditions in 4. Use a combination of for and if statements to loop over the words of the movie script for Monty Python and the Holy Grail (text6) and print all the uppercase words, one per line."
   ]
  },
  {
   "cell_type": "code",
   "execution_count": 53,
   "id": "6ab160c5",
   "metadata": {
    "id": "6ab160c5",
    "outputId": "4d70fd3f-6715-4c3f-f03c-5d14fc3ae780"
   },
   "outputs": [
    {
     "name": "stdout",
     "output_type": "stream",
     "text": [
      "SCENE\n",
      "KING\n",
      "ARTHUR\n",
      "SOLDIER\n",
      "ARTHUR\n",
      "I\n",
      "SOLDIER\n",
      "ARTHUR\n",
      "I\n",
      "I\n",
      "SOLDIER\n",
      "ARTHUR\n",
      "SOLDIER\n",
      "ARTHUR\n",
      "SOLDIER\n",
      "ARTHUR\n",
      "SOLDIER\n",
      "ARTHUR\n",
      "SOLDIER\n",
      "ARTHUR\n",
      "SOLDIER\n",
      "ARTHUR\n",
      "SOLDIER\n",
      "ARTHUR\n",
      "SOLDIER\n",
      "A\n",
      "ARTHUR\n",
      "SOLDIER\n",
      "A\n",
      "ARTHUR\n",
      "SOLDIER\n",
      "ARTHUR\n",
      "SOLDIER\n",
      "I\n",
      "ARTHUR\n",
      "I\n",
      "SOLDIER\n",
      "SOLDIER\n",
      "SOLDIER\n",
      "I\n",
      "ARTHUR\n",
      "SOLDIER\n",
      "SOLDIER\n",
      "SOLDIER\n",
      "SOLDIER\n",
      "SOLDIER\n",
      "SOLDIER\n",
      "SOLDIER\n",
      "SOLDIER\n",
      "SCENE\n",
      "CART\n",
      "MASTER\n",
      "CUSTOMER\n",
      "CART\n",
      "MASTER\n",
      "DEAD\n",
      "PERSON\n",
      "I\n",
      "CART\n",
      "MASTER\n",
      "CUSTOMER\n",
      "DEAD\n",
      "PERSON\n",
      "I\n",
      "CART\n",
      "MASTER\n",
      "CUSTOMER\n",
      "DEAD\n",
      "PERSON\n",
      "I\n",
      "CART\n",
      "MASTER\n",
      "CUSTOMER\n",
      "DEAD\n",
      "PERSON\n",
      "I\n",
      "CUSTOMER\n",
      "CART\n",
      "MASTER\n",
      "I\n",
      "DEAD\n",
      "PERSON\n",
      "I\n",
      "CUSTOMER\n",
      "CART\n",
      "MASTER\n",
      "I\n",
      "DEAD\n",
      "PERSON\n",
      "I\n",
      "CUSTOMER\n",
      "CART\n",
      "MASTER\n",
      "I\n",
      "CUSTOMER\n",
      "CART\n",
      "MASTER\n",
      "I\n",
      "CUSTOMER\n",
      "CART\n",
      "MASTER\n",
      "DEAD\n",
      "PERSON\n",
      "I\n",
      "I\n",
      "CUSTOMER\n",
      "DEAD\n",
      "PERSON\n",
      "I\n",
      "I\n",
      "CUSTOMER\n",
      "CART\n",
      "MASTER\n",
      "CUSTOMER\n",
      "CART\n",
      "MASTER\n",
      "I\n",
      "CUSTOMER\n",
      "CART\n",
      "MASTER\n",
      "SCENE\n",
      "ARTHUR\n",
      "DENNIS\n",
      "ARTHUR\n",
      "DENNIS\n",
      "I\n",
      "ARTHUR\n",
      "I\n",
      "DENNIS\n",
      "I\n",
      "I\n",
      "ARTHUR\n",
      "I\n",
      "DENNIS\n",
      "ARTHUR\n",
      "I\n",
      "DENNIS\n",
      "ARTHUR\n",
      "I\n",
      "DENNIS\n",
      "I\n",
      "ARTHUR\n",
      "I\n",
      "DENNIS\n",
      "WOMAN\n",
      "ARTHUR\n",
      "I\n",
      "WOMAN\n",
      "ARTHUR\n",
      "WOMAN\n",
      "ARTHUR\n",
      "I\n",
      "WOMAN\n",
      "I\n",
      "I\n",
      "DENNIS\n",
      "A\n",
      "WOMAN\n",
      "DENNIS\n",
      "ARTHUR\n",
      "I\n",
      "WOMAN\n",
      "ARTHUR\n",
      "WOMAN\n",
      "ARTHUR\n",
      "DENNIS\n",
      "I\n",
      "ARTHUR\n",
      "DENNIS\n",
      "ARTHUR\n",
      "I\n",
      "DENNIS\n",
      "ARTHUR\n",
      "DENNIS\n",
      "ARTHUR\n",
      "I\n",
      "WOMAN\n",
      "ARTHUR\n",
      "I\n",
      "WOMAN\n",
      "I\n",
      "ARTHUR\n",
      "WOMAN\n",
      "ARTHUR\n",
      "I\n",
      "I\n",
      "DENNIS\n",
      "ARTHUR\n",
      "DENNIS\n",
      "ARTHUR\n",
      "DENNIS\n",
      "I\n",
      "I\n",
      "I\n",
      "ARTHUR\n",
      "DENNIS\n",
      "ARTHUR\n",
      "DENNIS\n",
      "I\n",
      "ARTHUR\n",
      "DENNIS\n",
      "I\n",
      "SCENE\n",
      "BLACK\n",
      "KNIGHT\n",
      "BLACK\n",
      "KNIGHT\n",
      "GREEN\n",
      "KNIGHT\n",
      "BLACK\n",
      "KNIGHT\n",
      "GREEN\n",
      "KNIGHT\n",
      "BLACK\n",
      "KNIGHT\n",
      "BLACK\n",
      "KNIGHT\n",
      "GREEN\n",
      "KNIGHT\n",
      "GREEN\n",
      "KNIGHT\n",
      "BLACK\n",
      "KNIGHT\n",
      "GREEN\n",
      "KNIGHT\n",
      "BLACK\n",
      "KNIGHT\n",
      "ARTHUR\n",
      "I\n",
      "I\n",
      "BLACK\n",
      "KNIGHT\n",
      "ARTHUR\n",
      "BLACK\n",
      "KNIGHT\n",
      "ARTHUR\n",
      "I\n",
      "I\n",
      "BLACK\n",
      "KNIGHT\n",
      "ARTHUR\n",
      "I\n",
      "BLACK\n",
      "KNIGHT\n",
      "I\n",
      "ARTHUR\n",
      "ARTHUR\n",
      "BLACK\n",
      "KNIGHT\n",
      "ARTHUR\n",
      "BLACK\n",
      "KNIGHT\n",
      "ARTHUR\n",
      "BLACK\n",
      "KNIGHT\n",
      "ARTHUR\n",
      "A\n",
      "BLACK\n",
      "KNIGHT\n",
      "ARTHUR\n",
      "BLACK\n",
      "KNIGHT\n",
      "I\n",
      "ARTHUR\n",
      "BLACK\n",
      "KNIGHT\n",
      "ARTHUR\n",
      "BLACK\n",
      "KNIGHT\n",
      "ARTHUR\n",
      "BLACK\n",
      "KNIGHT\n",
      "ARTHUR\n",
      "BLACK\n",
      "KNIGHT\n",
      "ARTHUR\n",
      "BLACK\n",
      "KNIGHT\n",
      "ARTHUR\n",
      "BLACK\n",
      "KNIGHT\n",
      "I\n",
      "ARTHUR\n",
      "BLACK\n",
      "KNIGHT\n",
      "ARTHUR\n",
      "BLACK\n",
      "KNIGHT\n",
      "ARTHUR\n",
      "I\n",
      "ARTHUR\n",
      "BLACK\n",
      "KNIGHT\n",
      "BLACK\n",
      "KNIGHT\n",
      "I\n",
      "ARTHUR\n",
      "BLACK\n",
      "KNIGHT\n",
      "ARTHUR\n",
      "BLACK\n",
      "KNIGHT\n",
      "I\n",
      "ARTHUR\n",
      "BLACK\n",
      "KNIGHT\n",
      "ARTHUR\n",
      "BLACK\n",
      "KNIGHT\n",
      "BLACK\n",
      "KNIGHT\n",
      "ARTHUR\n",
      "BLACK\n",
      "KNIGHT\n",
      "I\n",
      "I\n",
      "SCENE\n",
      "MONKS\n",
      "CROWD\n",
      "A\n",
      "A\n",
      "A\n",
      "A\n",
      "MONKS\n",
      "CROWD\n",
      "A\n",
      "A\n",
      "A\n",
      "A\n",
      "A\n",
      "A\n",
      "A\n",
      "A\n",
      "A\n",
      "A\n",
      "A\n",
      "A\n",
      "A\n",
      "VILLAGER\n",
      "CROWD\n",
      "BEDEVERE\n",
      "VILLAGER\n",
      "CROWD\n",
      "BEDEVERE\n",
      "WITCH\n",
      "I\n",
      "I\n",
      "BEDEVERE\n",
      "WITCH\n",
      "CROWD\n",
      "WITCH\n",
      "BEDEVERE\n",
      "VILLAGER\n",
      "BEDEVERE\n",
      "VILLAGER\n",
      "VILLAGER\n",
      "CROWD\n",
      "BEDEVERE\n",
      "VILLAGER\n",
      "VILLAGER\n",
      "VILLAGER\n",
      "VILLAGER\n",
      "VILLAGERS\n",
      "VILLAGER\n",
      "VILLAGER\n",
      "VILLAGER\n",
      "VILLAGER\n",
      "A\n",
      "VILLAGERS\n",
      "A\n",
      "VILLAGER\n",
      "A\n",
      "VILLAGER\n",
      "RANDOM\n",
      "BEDEVERE\n",
      "VILLAGER\n",
      "BEDEVERE\n",
      "A\n",
      "VILLAGER\n",
      "I\n",
      "VILLAGER\n",
      "VILLAGER\n",
      "CROWD\n",
      "BEDEVERE\n",
      "VILLAGER\n",
      "VILLAGER\n",
      "VILLAGER\n",
      "CROWD\n",
      "BEDEVERE\n",
      "VILLAGER\n",
      "VILLAGER\n",
      "CROWD\n",
      "BEDEVERE\n",
      "VILLAGER\n",
      "VILLAGER\n",
      "VILLAGER\n",
      "BEDEVERE\n",
      "VILLAGER\n",
      "B\n",
      "BEDEVERE\n",
      "CROWD\n",
      "BEDEVERE\n",
      "VILLAGER\n",
      "BEDEVERE\n",
      "VILLAGER\n",
      "RANDOM\n",
      "BEDEVERE\n",
      "VILLAGER\n",
      "VILLAGER\n",
      "VILLAGER\n",
      "CROWD\n",
      "BEDEVERE\n",
      "VILLAGER\n",
      "VILLAGER\n",
      "VILLAGER\n",
      "VILLAGER\n",
      "VILLAGER\n",
      "VILLAGER\n",
      "VILLAGER\n",
      "VILLAGER\n",
      "VILLAGER\n",
      "ARTHUR\n",
      "A\n",
      "CROWD\n",
      "BEDEVERE\n",
      "VILLAGER\n",
      "BEDEVERE\n",
      "VILLAGER\n",
      "A\n",
      "VILLAGER\n",
      "A\n",
      "CROWD\n",
      "A\n",
      "A\n",
      "VILLAGER\n",
      "BEDEVERE\n",
      "CROWD\n",
      "BEDEVERE\n",
      "CROWD\n",
      "A\n",
      "A\n",
      "A\n",
      "WITCH\n",
      "VILLAGER\n",
      "CROWD\n",
      "BEDEVERE\n",
      "ARTHUR\n",
      "I\n",
      "BEDEVERE\n",
      "ARTHUR\n",
      "BEDEVERE\n",
      "I\n",
      "ARTHUR\n",
      "BEDEVERE\n",
      "ARTHUR\n",
      "I\n",
      "NARRATOR\n",
      "SCENE\n",
      "SIR\n",
      "BEDEVERE\n",
      "ARTHUR\n",
      "BEDEVERE\n",
      "SIR\n",
      "LAUNCELOT\n",
      "ARTHUR\n",
      "SIR\n",
      "GALAHAD\n",
      "LAUNCELOT\n",
      "PATSY\n",
      "ARTHUR\n",
      "I\n",
      "KNIGHTS\n",
      "PRISONER\n",
      "KNIGHTS\n",
      "MAN\n",
      "I\n",
      "ARTHUR\n",
      "KNIGHTS\n",
      "SCENE\n",
      "GOD\n",
      "I\n",
      "ARTHUR\n",
      "GOD\n",
      "I\n",
      "I\n",
      "ARTHUR\n",
      "I\n",
      "O\n",
      "GOD\n",
      "ARTHUR\n",
      "GOD\n",
      "ARTHUR\n",
      "O\n",
      "GOD\n",
      "LAUNCELOT\n",
      "A\n",
      "A\n",
      "GALAHAD\n",
      "SCENE\n",
      "ARTHUR\n",
      "FRENCH\n",
      "GUARD\n",
      "ARTHUR\n",
      "FRENCH\n",
      "GUARD\n",
      "ARTHUR\n",
      "FRENCH\n",
      "GUARD\n",
      "I\n",
      "I\n",
      "ARTHUR\n",
      "GALAHAD\n",
      "ARTHUR\n",
      "FRENCH\n",
      "GUARD\n",
      "I\n",
      "ARTHUR\n",
      "FRENCH\n",
      "GUARD\n",
      "ARTHUR\n",
      "FRENCH\n",
      "GUARD\n",
      "I\n",
      "I\n",
      "GALAHAD\n",
      "FRENCH\n",
      "GUARD\n",
      "ARTHUR\n",
      "FRENCH\n",
      "GUARD\n",
      "I\n",
      "GALAHAD\n",
      "ARTHUR\n",
      "FRENCH\n",
      "GUARD\n",
      "I\n",
      "I\n",
      "GALAHAD\n",
      "FRENCH\n",
      "GUARD\n",
      "I\n",
      "ARTHUR\n",
      "I\n",
      "FRENCH\n",
      "GUARD\n",
      "OTHER\n",
      "FRENCH\n",
      "GUARD\n",
      "FRENCH\n",
      "GUARD\n",
      "ARTHUR\n",
      "I\n",
      "KNIGHTS\n",
      "ARTHUR\n",
      "KNIGHTS\n",
      "FRENCH\n",
      "GUARD\n",
      "FRENCH\n",
      "GUARD\n",
      "ARTHUR\n",
      "KNIGHTS\n",
      "FRENCH\n",
      "GUARD\n",
      "FRENCH\n",
      "GUARDS\n",
      "LAUNCELOT\n",
      "I\n",
      "ARTHUR\n",
      "BEDEVERE\n",
      "I\n",
      "FRENCH\n",
      "GUARDS\n",
      "C\n",
      "A\n",
      "ARTHUR\n",
      "BEDEVERE\n",
      "I\n",
      "ARTHUR\n",
      "BEDEVERE\n",
      "U\n",
      "I\n",
      "ARTHUR\n",
      "BEDEVERE\n",
      "ARTHUR\n",
      "KNIGHTS\n",
      "CRASH\n",
      "FRENCH\n",
      "GUARDS\n",
      "SCENE\n",
      "VOICE\n",
      "DIRECTOR\n",
      "HISTORIAN\n",
      "KNIGHT\n",
      "KNIGHT\n",
      "HISTORIAN\n",
      "HISTORIAN\n",
      "S\n",
      "WIFE\n",
      "SCENE\n",
      "NARRATOR\n",
      "MINSTREL\n",
      "O\n",
      "SIR\n",
      "ROBIN\n",
      "DENNIS\n",
      "WOMAN\n",
      "ALL\n",
      "HEADS\n",
      "MINSTREL\n",
      "ROBIN\n",
      "I\n",
      "ALL\n",
      "HEADS\n",
      "MINSTREL\n",
      "ROBIN\n",
      "I\n",
      "ALL\n",
      "HEADS\n",
      "I\n",
      "ROBIN\n",
      "W\n",
      "I\n",
      "I\n",
      "ALL\n",
      "HEADS\n",
      "ROBIN\n",
      "I\n",
      "LEFT\n",
      "HEAD\n",
      "I\n",
      "MIDDLE\n",
      "HEAD\n",
      "I\n",
      "RIGHT\n",
      "HEAD\n",
      "I\n",
      "MIDDLE\n",
      "HEAD\n",
      "I\n",
      "LEFT\n",
      "HEAD\n",
      "I\n",
      "RIGHT\n",
      "HEAD\n",
      "LEFT\n",
      "HEAD\n",
      "ROBIN\n",
      "I\n",
      "LEFT\n",
      "HEAD\n",
      "I\n",
      "RIGHT\n",
      "HEAD\n",
      "MIDDLE\n",
      "HEAD\n",
      "LEFT\n",
      "HEAD\n",
      "RIGHT\n",
      "HEAD\n",
      "MIDDLE\n",
      "HEAD\n",
      "LEFT\n",
      "HEAD\n",
      "MIDDLE\n",
      "HEAD\n",
      "LEFT\n",
      "HEAD\n",
      "I\n",
      "MIDDLE\n",
      "HEAD\n",
      "RIGHT\n",
      "HEAD\n",
      "LEFT\n",
      "HEAD\n",
      "MIDDLE\n",
      "HEAD\n",
      "RIGHT\n",
      "HEAD\n",
      "LEFT\n",
      "HEAD\n",
      "ALL\n",
      "HEADS\n",
      "MIDDLE\n",
      "HEAD\n",
      "RIGHT\n",
      "HEAD\n",
      "MINSTREL\n",
      "ROBIN\n",
      "MINSTREL\n",
      "ROBIN\n",
      "I\n",
      "MINSTREL\n",
      "ROBIN\n",
      "MINSTREL\n",
      "ROBIN\n",
      "I\n",
      "MINSTREL\n",
      "ROBIN\n",
      "I\n",
      "MINSTREL\n",
      "ROBIN\n",
      "MINSTREL\n",
      "ROBIN\n",
      "I\n",
      "CARTOON\n",
      "MONKS\n",
      "CARTOON\n",
      "CHARACTER\n",
      "CARTOON\n",
      "MONKS\n",
      "CARTOON\n",
      "CHARACTERS\n",
      "CARTOON\n",
      "MONKS\n",
      "CARTOON\n",
      "CHARACTER\n",
      "VOICE\n",
      "CARTOON\n",
      "CHARACTER\n",
      "SCENE\n",
      "NARRATOR\n",
      "GALAHAD\n",
      "GIRLS\n",
      "ZOOT\n",
      "GALAHAD\n",
      "ZOOT\n",
      "GALAHAD\n",
      "ZOOT\n",
      "GALAHAD\n",
      "ZOOT\n",
      "MIDGET\n",
      "CRAPPER\n",
      "O\n",
      "ZOOT\n",
      "MIDGET\n",
      "CRAPPER\n",
      "ZOOT\n",
      "GALAHAD\n",
      "I\n",
      "I\n",
      "ZOOT\n",
      "GALAHAD\n",
      "ZOOT\n",
      "GALAHAD\n",
      "ZOOT\n",
      "GALAHAD\n",
      "I\n",
      "ZOOT\n",
      "GALAHAD\n",
      "I\n",
      "I\n",
      "ZOOT\n",
      "I\n",
      "GALAHAD\n",
      "ZOOT\n",
      "PIGLET\n",
      "GALAHAD\n",
      "ZOOT\n",
      "GALAHAD\n",
      "B\n",
      "ZOOT\n",
      "WINSTON\n",
      "GALAHAD\n",
      "PIGLET\n",
      "GALAHAD\n",
      "PIGLET\n",
      "GALAHAD\n",
      "I\n",
      "PIGLET\n",
      "GALAHAD\n",
      "I\n",
      "PIGLET\n",
      "GALAHAD\n",
      "I\n",
      "I\n",
      "I\n",
      "GIRLS\n",
      "GALAHAD\n",
      "GIRLS\n",
      "GALAHAD\n",
      "DINGO\n",
      "I\n",
      "GALAHAD\n",
      "I\n",
      "DINGO\n",
      "GALAHAD\n",
      "I\n",
      "I\n",
      "DINGO\n",
      "GALAHAD\n",
      "DINGO\n",
      "I\n",
      "GALAHAD\n",
      "DINGO\n",
      "I\n",
      "LEFT\n",
      "HEAD\n",
      "DENNIS\n",
      "OLD\n",
      "MAN\n",
      "TIM\n",
      "THE\n",
      "ENCHANTER\n",
      "ARMY\n",
      "OF\n",
      "KNIGHTS\n",
      "DINGO\n",
      "I\n",
      "GOD\n",
      "DINGO\n",
      "GIRLS\n",
      "A\n",
      "A\n",
      "DINGO\n",
      "AMAZING\n",
      "STUNNER\n",
      "LOVELY\n",
      "DINGO\n",
      "GIRLS\n",
      "A\n",
      "A\n",
      "DINGO\n",
      "GIRLS\n",
      "GALAHAD\n",
      "I\n",
      "LAUNCELOT\n",
      "GALAHAD\n",
      "LAUNCELOT\n",
      "GALAHAD\n",
      "LAUNCELOT\n",
      "GALAHAD\n",
      "LAUNCELOT\n",
      "DINGO\n",
      "LAUNCELOT\n",
      "GALAHAD\n",
      "LAUNCELOT\n",
      "GALAHAD\n",
      "I\n",
      "LAUNCELOT\n",
      "GIRLS\n",
      "GALAHAD\n",
      "I\n",
      "DINGO\n",
      "GIRLS\n",
      "LAUNCELOT\n",
      "GALAHAD\n",
      "I\n",
      "I\n",
      "DINGO\n",
      "GIRLS\n",
      "LAUNCELOT\n",
      "GALAHAD\n",
      "I\n",
      "DINGO\n",
      "GIRLS\n",
      "DINGO\n",
      "LAUNCELOT\n",
      "GALAHAD\n",
      "I\n",
      "I\n",
      "LAUNCELOT\n",
      "GALAHAD\n",
      "LAUNCELOT\n",
      "GALAHAD\n",
      "I\n",
      "LAUNCELOT\n",
      "GALAHAD\n",
      "LAUNCELOT\n",
      "GALAHAD\n",
      "I\n",
      "LAUNCELOT\n",
      "I\n",
      "NARRATOR\n",
      "I\n",
      "I\n",
      "CROWD\n",
      "NARRATOR\n",
      "I\n",
      "SCENE\n",
      "OLD\n",
      "MAN\n",
      "ARTHUR\n",
      "OLD\n",
      "MAN\n",
      "ARTHUR\n",
      "OLD\n",
      "MAN\n",
      "ARTHUR\n",
      "OLD\n",
      "MAN\n",
      "ARTHUR\n",
      "OLD\n",
      "MAN\n",
      "ARTHUR\n",
      "OLD\n",
      "MAN\n",
      "ARTHUR\n",
      "OLD\n",
      "MAN\n",
      "SCENE\n",
      "HEAD\n",
      "KNIGHT\n",
      "OF\n",
      "NI\n",
      "KNIGHTS\n",
      "OF\n",
      "NI\n",
      "ARTHUR\n",
      "HEAD\n",
      "KNIGHT\n",
      "RANDOM\n",
      "ARTHUR\n",
      "HEAD\n",
      "KNIGHT\n",
      "BEDEVERE\n",
      "HEAD\n",
      "KNIGHT\n",
      "RANDOM\n",
      "ARTHUR\n",
      "HEAD\n",
      "KNIGHT\n",
      "ARTHUR\n",
      "HEAD\n",
      "KNIGHT\n",
      "KNIGHTS\n",
      "OF\n",
      "NI\n",
      "ARTHUR\n",
      "HEAD\n",
      "KNIGHT\n",
      "ARTHUR\n",
      "HEAD\n",
      "KNIGHT\n",
      "ARTHUR\n",
      "A\n",
      "KNIGHTS\n",
      "OF\n",
      "NI\n",
      "ARTHUR\n",
      "PARTY\n",
      "ARTHUR\n",
      "HEAD\n",
      "KNIGHT\n",
      "ARTHUR\n",
      "O\n",
      "HEAD\n",
      "KNIGHT\n",
      "ARTHUR\n",
      "HEAD\n",
      "KNIGHT\n",
      "ARTHUR\n",
      "HEAD\n",
      "KNIGHT\n",
      "CARTOON\n",
      "CHARACTER\n",
      "SUN\n",
      "CARTOON\n",
      "CHARACTER\n",
      "SUN\n",
      "CARTOON\n",
      "CHARACTER\n",
      "SUN\n",
      "CARTOON\n",
      "CHARACTER\n",
      "SCENE\n",
      "NARRATOR\n",
      "FATHER\n",
      "PRINCE\n",
      "HERBERT\n",
      "FATHER\n",
      "HERBERT\n",
      "FATHER\n",
      "HERBERT\n",
      "B\n",
      "I\n",
      "FATHER\n",
      "I\n",
      "I\n",
      "I\n",
      "I\n",
      "I\n",
      "I\n",
      "HERBERT\n",
      "I\n",
      "I\n",
      "FATHER\n",
      "HERBERT\n",
      "I\n",
      "FATHER\n",
      "I\n",
      "HERBERT\n",
      "B\n",
      "I\n",
      "FATHER\n",
      "HERBERT\n",
      "FATHER\n",
      "HERBERT\n",
      "I\n",
      "FATHER\n",
      "HERBERT\n",
      "I\n",
      "I\n",
      "I\n",
      "FATHER\n",
      "I\n",
      "GUARD\n",
      "GUARD\n",
      "FATHER\n",
      "I\n",
      "GUARD\n",
      "FATHER\n",
      "GUARD\n",
      "GUARD\n",
      "FATHER\n",
      "GUARD\n",
      "FATHER\n",
      "GUARD\n",
      "FATHER\n",
      "GUARD\n",
      "GUARD\n",
      "FATHER\n",
      "GUARD\n",
      "FATHER\n",
      "GUARD\n",
      "FATHER\n",
      "GUARD\n",
      "FATHER\n",
      "GUARD\n",
      "FATHER\n",
      "GUARD\n",
      "I\n",
      "FATHER\n",
      "N\n",
      "GUARD\n",
      "FATHER\n",
      "GUARD\n",
      "FATHER\n",
      "GUARD\n",
      "GUARD\n",
      "FATHER\n",
      "GUARD\n",
      "FATHER\n",
      "GUARD\n",
      "GUARD\n",
      "FATHER\n",
      "GUARD\n",
      "FATHER\n",
      "GUARD\n",
      "FATHER\n",
      "GUARD\n",
      "GUARD\n",
      "GUARD\n",
      "I\n",
      "FATHER\n",
      "GUARD\n",
      "GUARD\n",
      "FATHER\n",
      "GUARD\n",
      "FATHER\n",
      "I\n",
      "GUARD\n",
      "I\n",
      "HERBERT\n",
      "FATHER\n",
      "GUARD\n",
      "FATHER\n",
      "SCENE\n",
      "LAUNCELOT\n",
      "CONCORDE\n",
      "LAUNCELOT\n",
      "CONCORDE\n",
      "LAUNCELOT\n",
      "I\n",
      "I\n",
      "A\n",
      "A\n",
      "CONCORDE\n",
      "I\n",
      "I\n",
      "LAUNCELOT\n",
      "CONCORDE\n",
      "I\n",
      "I\n",
      "I\n",
      "I\n",
      "I\n",
      "LAUNCELOT\n",
      "I\n",
      "CONCORDE\n",
      "I\n",
      "I\n",
      "LAUNCELOT\n",
      "I\n",
      "I\n",
      "CONCORDE\n",
      "LAUNCELOT\n",
      "CONCORDE\n",
      "I\n",
      "LAUNCELOT\n",
      "CONCORDE\n",
      "I\n",
      "I\n",
      "I\n",
      "SCENE\n",
      "PRINCESS\n",
      "LUCKY\n",
      "GIRLS\n",
      "GUEST\n",
      "SENTRY\n",
      "SENTRY\n",
      "SENTRY\n",
      "LAUNCELOT\n",
      "SENTRY\n",
      "LAUNCELOT\n",
      "PRINCESS\n",
      "LUCKY\n",
      "GIRLS\n",
      "LAUNCELOT\n",
      "GUESTS\n",
      "LAUNCELOT\n",
      "GUARD\n",
      "LAUNCELOT\n",
      "O\n",
      "I\n",
      "I\n",
      "HERBERT\n",
      "LAUNCELOT\n",
      "I\n",
      "I\n",
      "HERBERT\n",
      "LAUNCELOT\n",
      "I\n",
      "HERBERT\n",
      "I\n",
      "I\n",
      "LAUNCELOT\n",
      "I\n",
      "HERBERT\n",
      "FATHER\n",
      "HERBERT\n",
      "I\n",
      "FATHER\n",
      "LAUNCELOT\n",
      "I\n",
      "HERBERT\n",
      "LAUNCELOT\n",
      "FATHER\n",
      "LAUNCELOT\n",
      "FATHER\n",
      "LAUNCELOT\n",
      "I\n",
      "I\n",
      "HERBERT\n",
      "I\n",
      "FATHER\n",
      "LAUNCELOT\n",
      "I\n",
      "FATHER\n",
      "I\n",
      "HERBERT\n",
      "FATHER\n",
      "LAUNCELOT\n",
      "I\n",
      "FATHER\n",
      "LAUNCELOT\n",
      "FATHER\n",
      "LAUNCELOT\n",
      "I\n",
      "I\n",
      "I\n",
      "FATHER\n",
      "HERBERT\n",
      "LAUNCELOT\n",
      "I\n",
      "FATHER\n",
      "LAUNCELOT\n",
      "HERBERT\n",
      "I\n",
      "FATHER\n",
      "LAUNCELOT\n",
      "HERBERT\n",
      "I\n",
      "LAUNCELOT\n",
      "I\n",
      "HERBERT\n",
      "LAUNCELOT\n",
      "I\n",
      "I\n",
      "I\n",
      "FATHER\n",
      "HERBERT\n",
      "SCENE\n",
      "GUESTS\n",
      "FATHER\n",
      "GUEST\n",
      "FATHER\n",
      "LAUNCELOT\n",
      "FATHER\n",
      "LAUNCELOT\n",
      "I\n",
      "I\n",
      "I\n",
      "GUEST\n",
      "GUESTS\n",
      "FATHER\n",
      "LAUNCELOT\n",
      "GUEST\n",
      "GUESTS\n",
      "FATHER\n",
      "GUESTS\n",
      "FATHER\n",
      "I\n",
      "I\n",
      "GUEST\n",
      "FATHER\n",
      "GUEST\n",
      "FATHER\n",
      "BRIDE\n",
      "S\n",
      "FATHER\n",
      "GUEST\n",
      "FATHER\n",
      "I\n",
      "I\n",
      "LAUNCELOT\n",
      "GUEST\n",
      "GUESTS\n",
      "CONCORDE\n",
      "HERBERT\n",
      "I\n",
      "FATHER\n",
      "HERBERT\n",
      "I\n",
      "FATHER\n",
      "HERBERT\n",
      "I\n",
      "FATHER\n",
      "GUESTS\n",
      "FATHER\n",
      "GUESTS\n",
      "FATHER\n",
      "GUESTS\n",
      "FATHER\n",
      "GUESTS\n",
      "FATHER\n",
      "GUESTS\n",
      "CONCORDE\n",
      "GUESTS\n",
      "CONCORDE\n",
      "GUESTS\n",
      "LAUNCELOT\n",
      "GUESTS\n",
      "LAUNCELOT\n",
      "I\n",
      "GUESTS\n",
      "CONCORDE\n",
      "LAUNCELOT\n",
      "GUESTS\n",
      "LAUNCELOT\n",
      "GUESTS\n",
      "LAUNCELOT\n",
      "SCENE\n",
      "ARTHUR\n",
      "OLD\n",
      "CRONE\n",
      "ARTHUR\n",
      "CRONE\n",
      "ARTHUR\n",
      "I\n",
      "CRONE\n",
      "ARTHUR\n",
      "CRONE\n",
      "ARTHUR\n",
      "CRONE\n",
      "BEDEVERE\n",
      "ARTHUR\n",
      "BEDEVERE\n",
      "ARTHUR\n",
      "BEDEVERE\n",
      "ARTHUR\n",
      "BEDEVERE\n",
      "ARTHUR\n",
      "BEDEVERE\n",
      "ARTHUR\n",
      "ARTHUR\n",
      "BEDEVERE\n",
      "CRONE\n",
      "BEDEVERE\n",
      "ARTHUR\n",
      "CRONE\n",
      "BEDEVERE\n",
      "ARTHUR\n",
      "BEDEVERE\n",
      "ARTHUR\n",
      "BEDEVERE\n",
      "ROGER\n",
      "THE\n",
      "SHRUBBER\n",
      "ARTHUR\n",
      "ROGER\n",
      "ARTHUR\n",
      "ROGER\n",
      "I\n",
      "I\n",
      "BEDEVERE\n",
      "ARTHUR\n",
      "SCENE\n",
      "ARTHUR\n",
      "O\n",
      "HEAD\n",
      "KNIGHT\n",
      "I\n",
      "ARTHUR\n",
      "HEAD\n",
      "KNIGHT\n",
      "KNIGHTS\n",
      "OF\n",
      "NI\n",
      "HEAD\n",
      "KNIGHT\n",
      "RANDOM\n",
      "HEAD\n",
      "KNIGHT\n",
      "ARTHUR\n",
      "O\n",
      "HEAD\n",
      "KNIGHT\n",
      "ARTHUR\n",
      "RANDOM\n",
      "HEAD\n",
      "KNIGHT\n",
      "KNIGHTS\n",
      "OF\n",
      "NI\n",
      "A\n",
      "A\n",
      "A\n",
      "HEAD\n",
      "KNIGHT\n",
      "ARTHUR\n",
      "HEAD\n",
      "KNIGHT\n",
      "ARTHUR\n",
      "KNIGHTS\n",
      "OF\n",
      "NI\n",
      "HEAD\n",
      "KNIGHT\n",
      "ARTHUR\n",
      "HEAD\n",
      "KNIGHT\n",
      "I\n",
      "ARTHUR\n",
      "KNIGHTS\n",
      "OF\n",
      "NI\n",
      "HEAD\n",
      "KNIGHT\n",
      "ARTHUR\n",
      "KNIGHTS\n",
      "OF\n",
      "NI\n",
      "HEAD\n",
      "KNIGHT\n",
      "KNIGHTS\n",
      "OF\n",
      "NI\n",
      "BEDEVERE\n",
      "MINSTREL\n",
      "ARTHUR\n",
      "ROBIN\n",
      "HEAD\n",
      "KNIGHT\n",
      "ARTHUR\n",
      "MINSTREL\n",
      "ROBIN\n",
      "HEAD\n",
      "KNIGHT\n",
      "KNIGHTS\n",
      "OF\n",
      "NI\n",
      "ROBIN\n",
      "I\n",
      "KNIGHTS\n",
      "OF\n",
      "NI\n",
      "ROBIN\n",
      "ARTHUR\n",
      "KNIGHTS\n",
      "OF\n",
      "NI\n",
      "HEAD\n",
      "KNIGHT\n",
      "ARTHUR\n",
      "KNIGHTS\n",
      "OF\n",
      "NI\n",
      "HEAD\n",
      "KNIGHT\n",
      "ARTHUR\n",
      "HEAD\n",
      "KNIGHT\n",
      "I\n",
      "I\n",
      "I\n",
      "KNIGHTS\n",
      "OF\n",
      "NI\n",
      "NARRATOR\n",
      "KNIGHTS\n",
      "NARRATOR\n",
      "MINSTREL\n",
      "NARRATOR\n",
      "KNIGHTS\n",
      "NARRATOR\n",
      "A\n",
      "CARTOON\n",
      "CHARACTER\n",
      "NARRATOR\n",
      "CARTOON\n",
      "CHARACTER\n",
      "NARRATOR\n",
      "CARTOON\n",
      "CHARACTER\n",
      "NARRATOR\n",
      "CARTOON\n",
      "CHARACTER\n",
      "NARRATOR\n",
      "CARTOON\n",
      "CHARACTER\n",
      "NARRATOR\n",
      "SCENE\n",
      "KNIGHTS\n",
      "ARTHUR\n",
      "TIM\n",
      "THE\n",
      "ENCHANTER\n",
      "I\n",
      "ARTHUR\n",
      "TIM\n",
      "ARTHUR\n",
      "TIM\n",
      "ARTHUR\n",
      "TIM\n",
      "I\n",
      "ARTHUR\n",
      "O\n",
      "TIM\n",
      "ROBIN\n",
      "ARTHUR\n",
      "KNIGHTS\n",
      "ARTHUR\n",
      "BEDEVERE\n",
      "GALAHAD\n",
      "ROBIN\n",
      "BEDEVERE\n",
      "ROBIN\n",
      "BEDEVERE\n",
      "ARTHUR\n",
      "GALAHAD\n",
      "ARTHUR\n",
      "I\n",
      "I\n",
      "TIM\n",
      "A\n",
      "ARTHUR\n",
      "A\n",
      "TIM\n",
      "A\n",
      "ARTHUR\n",
      "I\n",
      "ROBIN\n",
      "Y\n",
      "ARTHUR\n",
      "GALAHAD\n",
      "KNIGHTS\n",
      "TIM\n",
      "ROBIN\n",
      "ARTHUR\n",
      "ROBIN\n",
      "GALAHAD\n",
      "ARTHUR\n",
      "ROBIN\n",
      "KNIGHTS\n",
      "ARTHUR\n",
      "TIM\n",
      "I\n",
      "KNIGHTS\n",
      "TIM\n",
      "ARTHUR\n",
      "O\n",
      "TIM\n",
      "ARTHUR\n",
      "SCENE\n",
      "GALAHAD\n",
      "ARTHUR\n",
      "TIM\n",
      "ARTHUR\n",
      "GALAHAD\n",
      "ARTHUR\n",
      "W\n",
      "TIM\n",
      "ARTHUR\n",
      "TIM\n",
      "ARTHUR\n",
      "TIM\n",
      "ARTHUR\n",
      "TIM\n",
      "ARTHUR\n",
      "TIM\n",
      "ARTHUR\n",
      "TIM\n",
      "ARTHUR\n",
      "TIM\n",
      "ROBIN\n",
      "I\n",
      "I\n",
      "TIM\n",
      "GALAHAD\n",
      "TIM\n",
      "GALAHAD\n",
      "ROBIN\n",
      "TIM\n",
      "I\n",
      "ROBIN\n",
      "TIM\n",
      "ARTHUR\n",
      "BORS\n",
      "TIM\n",
      "BORS\n",
      "ARTHUR\n",
      "TIM\n",
      "I\n",
      "ROBIN\n",
      "I\n",
      "TIM\n",
      "I\n",
      "I\n",
      "ARTHUR\n",
      "TIM\n",
      "ARTHUR\n",
      "TIM\n",
      "KNIGHTS\n",
      "KNIGHTS\n",
      "ARTHUR\n",
      "KNIGHTS\n",
      "TIM\n",
      "ARTHUR\n",
      "LAUNCELOT\n",
      "GALAHAD\n",
      "ARTHUR\n",
      "GALAHAD\n",
      "ARTHUR\n",
      "ROBIN\n",
      "ARTHUR\n",
      "GALAHAD\n",
      "ARTHUR\n",
      "GALAHAD\n",
      "LAUNCELOT\n",
      "ARTHUR\n",
      "LAUNCELOT\n",
      "ARTHUR\n",
      "MONKS\n",
      "ARTHUR\n",
      "LAUNCELOT\n",
      "I\n",
      "ARTHUR\n",
      "BROTHER\n",
      "MAYNARD\n",
      "SECOND\n",
      "BROTHER\n",
      "O\n",
      "MAYNARD\n",
      "SECOND\n",
      "BROTHER\n",
      "MAYNARD\n",
      "KNIGHTS\n",
      "ARTHUR\n",
      "GALAHAD\n",
      "ARTHUR\n",
      "SCENE\n",
      "ARTHUR\n",
      "LAUNCELOT\n",
      "GALAHAD\n",
      "ARTHUR\n",
      "MAYNARD\n",
      "GALAHAD\n",
      "LAUNCELOT\n",
      "ARTHUR\n",
      "MAYNARD\n",
      "ARTHUR\n",
      "MAYNARD\n",
      "BEDEVERE\n",
      "MAYNARD\n",
      "LAUNCELOT\n",
      "MAYNARD\n",
      "ARTHUR\n",
      "MAYNARD\n",
      "GALAHAD\n",
      "ARTHUR\n",
      "MAYNARD\n",
      "LAUNCELOT\n",
      "ARTHUR\n",
      "BEDEVERE\n",
      "GALAHAD\n",
      "BEDEVERE\n",
      "I\n",
      "LAUNCELOT\n",
      "ARTHUR\n",
      "LAUNCELOT\n",
      "KNIGHTS\n",
      "BEDEVERE\n",
      "LAUNCELOT\n",
      "BEDEVERE\n",
      "N\n",
      "LAUNCELOT\n",
      "BEDEVERE\n",
      "I\n",
      "ARTHUR\n",
      "GALAHAD\n",
      "MAYNARD\n",
      "BROTHER\n",
      "MAYNARD\n",
      "BEDEVERE\n",
      "ARTHUR\n",
      "KNIGHTS\n",
      "BEDEVERE\n",
      "KNIGHTS\n",
      "NARRATOR\n",
      "ANIMATOR\n",
      "NARRATOR\n",
      "SCENE\n",
      "GALAHAD\n",
      "ARTHUR\n",
      "ROBIN\n",
      "ARTHUR\n",
      "BEDEVERE\n",
      "ARTHUR\n",
      "GALAHAD\n",
      "ARTHUR\n",
      "GALAHAD\n",
      "ARTHUR\n",
      "ROBIN\n",
      "ARTHUR\n",
      "ROBIN\n",
      "I\n",
      "GALAHAD\n",
      "ARTHUR\n",
      "ROBIN\n",
      "ARTHUR\n",
      "ROBIN\n",
      "I\n",
      "LAUNCELOT\n",
      "I\n",
      "I\n",
      "ARTHUR\n",
      "GALAHAD\n",
      "ARTHUR\n",
      "LAUNCELOT\n",
      "I\n",
      "ARTHUR\n",
      "BRIDGEKEEPER\n",
      "LAUNCELOT\n",
      "I\n",
      "BRIDGEKEEPER\n",
      "LAUNCELOT\n",
      "BRIDGEKEEPER\n",
      "LAUNCELOT\n",
      "BRIDGEKEEPER\n",
      "LAUNCELOT\n",
      "BRIDGEKEEPER\n",
      "LAUNCELOT\n",
      "ROBIN\n",
      "BRIDGEKEEPER\n",
      "ROBIN\n",
      "I\n",
      "BRIDGEKEEPER\n",
      "ROBIN\n",
      "BRIDGEKEEPER\n",
      "ROBIN\n",
      "BRIDGEKEEPER\n",
      "ROBIN\n",
      "I\n",
      "BRIDGEKEEPER\n",
      "GALAHAD\n",
      "BRIDGEKEEPER\n",
      "GALAHAD\n",
      "I\n",
      "BRIDGEKEEPER\n",
      "GALAHAD\n",
      "BRIDGEKEEPER\n",
      "ARTHUR\n",
      "BRIDGEKEEPER\n",
      "ARTHUR\n",
      "BRIDGEKEEPER\n",
      "ARTHUR\n",
      "BRIDGEKEEPER\n",
      "I\n",
      "I\n",
      "BEDEVERE\n",
      "ARTHUR\n",
      "SCENE\n",
      "ARTHUR\n",
      "BEDEVERE\n",
      "ARTHUR\n",
      "BEDEVERE\n",
      "ARTHUR\n",
      "FRENCH\n",
      "GUARD\n",
      "ARTHUR\n",
      "I\n",
      "FRENCH\n",
      "GUARD\n",
      "I\n",
      "I\n",
      "ARTHUR\n",
      "FRENCH\n",
      "GUARD\n",
      "I\n",
      "ARTHUR\n",
      "FRENCH\n",
      "GUARDS\n",
      "ARTHUR\n",
      "FRENCH\n",
      "GUARD\n",
      "ARTHUR\n",
      "FRENCH\n",
      "GUARD\n",
      "FRENCH\n",
      "GUARDS\n",
      "ARTHUR\n",
      "BEDEVERE\n",
      "ARTHUR\n",
      "FRENCH\n",
      "GUARDS\n",
      "ARTHUR\n",
      "FRENCH\n",
      "GUARDS\n",
      "ARTHUR\n",
      "FRENCH\n",
      "GUARDS\n",
      "ARTHUR\n",
      "ARMY\n",
      "OF\n",
      "KNIGHTS\n",
      "HISTORIAN\n",
      "S\n",
      "WIFE\n",
      "I\n",
      "INSPECTOR\n",
      "OFFICER\n",
      "HISTORIAN\n",
      "S\n",
      "WIFE\n",
      "OFFICER\n",
      "INSPECTOR\n",
      "OFFICER\n",
      "BEDEVERE\n",
      "INSPECTOR\n",
      "OFFICER\n",
      "INSPECTOR\n",
      "OFFICER\n",
      "OFFICER\n",
      "RANDOM\n",
      "RANDOM\n",
      "OFFICER\n",
      "OFFICER\n",
      "OFFICER\n",
      "OFFICER\n",
      "INSPECTOR\n",
      "OFFICER\n",
      "CAMERAMAN\n"
     ]
    }
   ],
   "source": [
    "for token in text6:\n",
    "    if token.isupper():\n",
    "        print(token)"
   ]
  },
  {
   "cell_type": "code",
   "execution_count": 54,
   "id": "jO26pw3hcR56",
   "metadata": {
    "id": "jO26pw3hcR56",
    "outputId": "f0ddf697-8245-4dbf-8aca-c8ad66673936"
   },
   "outputs": [
    {
     "name": "stdout",
     "output_type": "stream",
     "text": [
      "GOD\n",
      "OLD\n",
      "GUESTS\n",
      "WINSTON\n",
      "AMAZING\n",
      "ENCHANTER\n",
      "MINSTREL\n",
      "BORS\n",
      "PRINCE\n",
      "LEFT\n",
      "BLACK\n",
      "DEAD\n",
      "LUCKY\n",
      "MASTER\n",
      "CART\n",
      "U\n",
      "MAN\n",
      "VILLAGER\n",
      "Y\n",
      "NARRATOR\n",
      "MONKS\n",
      "DIRECTOR\n",
      "CROWD\n",
      "ARMY\n",
      "PRINCESS\n",
      "S\n",
      "CHARACTERS\n",
      "ZOOT\n",
      "B\n",
      "CRONE\n",
      "GUEST\n",
      "HEADS\n",
      "RANDOM\n",
      "CHARACTER\n",
      "SOLDIER\n",
      "BRIDE\n",
      "PIGLET\n",
      "HEAD\n",
      "I\n",
      "FRENCH\n",
      "A\n",
      "KING\n",
      "TIM\n",
      "NI\n",
      "WITCH\n",
      "RIGHT\n",
      "SHRUBBER\n",
      "LAUNCELOT\n",
      "PATSY\n",
      "CRAPPER\n",
      "CRASH\n",
      "CAMERAMAN\n",
      "HERBERT\n",
      "KNIGHT\n",
      "W\n",
      "OTHER\n",
      "GUARD\n",
      "ROGER\n",
      "MIDDLE\n",
      "BRIDGEKEEPER\n",
      "SUN\n",
      "LOVELY\n",
      "VILLAGERS\n",
      "MAYNARD\n",
      "DENNIS\n",
      "N\n",
      "GALAHAD\n",
      "STUNNER\n",
      "CARTOON\n",
      "SENTRY\n",
      "GUARDS\n",
      "WOMAN\n",
      "PARTY\n",
      "DINGO\n",
      "OF\n",
      "CONCORDE\n",
      "GREEN\n",
      "HISTORIAN\n",
      "BEDEVERE\n",
      "GIRLS\n",
      "VOICE\n",
      "O\n",
      "MIDGET\n",
      "OFFICER\n",
      "INSPECTOR\n",
      "SCENE\n",
      "ROBIN\n",
      "BROTHER\n",
      "PRISONER\n",
      "FATHER\n",
      "CUSTOMER\n",
      "KNIGHTS\n",
      "ALL\n",
      "WIFE\n",
      "SECOND\n",
      "PERSON\n",
      "THE\n",
      "C\n",
      "ANIMATOR\n",
      "SIR\n",
      "ARTHUR\n"
     ]
    }
   ],
   "source": [
    "#if only want to print one time per word\n",
    "for token in set(text6):\n",
    "    if token.isupper():\n",
    "        print(token)"
   ]
  },
  {
   "cell_type": "markdown",
   "id": "5707514a",
   "metadata": {
    "id": "5707514a"
   },
   "source": [
    "#### 24. Write expressions for finding all words in text6 that meet the conditions listed below. The result should be in the form of a list of words: ['word1', 'word2', ...].\n",
    "\n",
    "a. Ending in ise"
   ]
  },
  {
   "cell_type": "code",
   "execution_count": 55,
   "id": "5wrQtq5-cR57",
   "metadata": {
    "id": "5wrQtq5-cR57",
    "outputId": "2cd47ed8-b067-43a5-8c0d-f33f57b985c3"
   },
   "outputs": [
    {
     "data": {
      "text/plain": [
       "['apologise', 'noise', 'surprise', 'wise']"
      ]
     },
     "execution_count": 55,
     "metadata": {},
     "output_type": "execute_result"
    }
   ],
   "source": [
    "sorted(w for w in set(text6) if w.endswith(\"ise\"))"
   ]
  },
  {
   "cell_type": "markdown",
   "id": "5c467ff0",
   "metadata": {
    "id": "5c467ff0",
    "outputId": "661efad5-2a14-4f4c-eba2-0ccbebf0b233"
   },
   "source": [
    "b. Containing the letter z"
   ]
  },
  {
   "cell_type": "code",
   "execution_count": 56,
   "id": "6e4b51c8",
   "metadata": {
    "id": "6e4b51c8",
    "outputId": "bde48f45-8424-49dc-9409-0b18e86c8777"
   },
   "outputs": [
    {
     "data": {
      "text/plain": [
       "['Fetchez', 'amazes', 'frozen', 'zhiv', 'zone', 'zoo', 'zoop', 'zoosh']"
      ]
     },
     "execution_count": 56,
     "metadata": {},
     "output_type": "execute_result"
    }
   ],
   "source": [
    "sorted(w for w in set(text6) if \"z\" in w)"
   ]
  },
  {
   "cell_type": "markdown",
   "id": "544cdb28",
   "metadata": {
    "id": "544cdb28",
    "outputId": "523572e0-d9e0-4ee8-89ee-dc5ea6dfc914"
   },
   "source": [
    "c. Containing the sequence of letters pt"
   ]
  },
  {
   "cell_type": "code",
   "execution_count": 57,
   "id": "1c59bf63",
   "metadata": {
    "id": "1c59bf63",
    "outputId": "b92fdefb-e52f-4a41-d946-5f5bbf858689"
   },
   "outputs": [
    {
     "data": {
      "text/plain": [
       "['Chapter',\n",
       " 'Thpppppt',\n",
       " 'Thppppt',\n",
       " 'Thpppt',\n",
       " 'Thppt',\n",
       " 'aptly',\n",
       " 'empty',\n",
       " 'excepting',\n",
       " 'ptoo',\n",
       " 'temptation',\n",
       " 'temptress']"
      ]
     },
     "execution_count": 57,
     "metadata": {},
     "output_type": "execute_result"
    }
   ],
   "source": [
    "sorted(w for w in set(text6) if \"pt\" in w)"
   ]
  },
  {
   "cell_type": "markdown",
   "id": "RGdPyj1zcR57",
   "metadata": {
    "id": "RGdPyj1zcR57"
   },
   "source": [
    "d. Having all lowercase letters except for an initial capital (i.e., titlecase)"
   ]
  },
  {
   "cell_type": "code",
   "execution_count": 58,
   "id": "92uk8uTucR57",
   "metadata": {
    "id": "92uk8uTucR57",
    "outputId": "5cde4d7e-827d-454b-922f-6d349a265421"
   },
   "outputs": [
    {
     "data": {
      "text/plain": [
       "['A',\n",
       " 'Aaaaaaaaah',\n",
       " 'Aaaaaaaah',\n",
       " 'Aaaaaah',\n",
       " 'Aaaah',\n",
       " 'Aaaaugh',\n",
       " 'Aaagh',\n",
       " 'Aaah',\n",
       " 'Aaauggh',\n",
       " 'Aaaugh',\n",
       " 'Aaauugh',\n",
       " 'Aagh',\n",
       " 'Aah',\n",
       " 'Aauuggghhh',\n",
       " 'Aauuugh',\n",
       " 'Aauuuuugh',\n",
       " 'Aauuuves',\n",
       " 'Action',\n",
       " 'Actually',\n",
       " 'African',\n",
       " 'Ages',\n",
       " 'Aggh',\n",
       " 'Agh',\n",
       " 'Ah',\n",
       " 'Ahh',\n",
       " 'Alice',\n",
       " 'All',\n",
       " 'Allo',\n",
       " 'Almighty',\n",
       " 'Alright',\n",
       " 'Am',\n",
       " 'Amen',\n",
       " 'An',\n",
       " 'Anarcho',\n",
       " 'And',\n",
       " 'Angnor',\n",
       " 'Anthrax',\n",
       " 'Antioch',\n",
       " 'Anybody',\n",
       " 'Anyway',\n",
       " 'Apples',\n",
       " 'Aramaic',\n",
       " 'Are',\n",
       " 'Arimathea',\n",
       " 'Armaments',\n",
       " 'Arthur',\n",
       " 'As',\n",
       " 'Ask',\n",
       " 'Assyria',\n",
       " 'At',\n",
       " 'Attila',\n",
       " 'Augh',\n",
       " 'Autumn',\n",
       " 'Auuuuuuuugh',\n",
       " 'Away',\n",
       " 'Ay',\n",
       " 'Ayy',\n",
       " 'B',\n",
       " 'Back',\n",
       " 'Bad',\n",
       " 'Badon',\n",
       " 'Battle',\n",
       " 'Be',\n",
       " 'Beast',\n",
       " 'Bedevere',\n",
       " 'Bedwere',\n",
       " 'Behold',\n",
       " 'Between',\n",
       " 'Beyond',\n",
       " 'Black',\n",
       " 'Bloody',\n",
       " 'Blue',\n",
       " 'Bon',\n",
       " 'Bones',\n",
       " 'Book',\n",
       " 'Bors',\n",
       " 'Brave',\n",
       " 'Bravely',\n",
       " 'Bravest',\n",
       " 'Bread',\n",
       " 'Bridge',\n",
       " 'Bring',\n",
       " 'Bristol',\n",
       " 'Britain',\n",
       " 'Britons',\n",
       " 'Brother',\n",
       " 'Build',\n",
       " 'Burn',\n",
       " 'But',\n",
       " 'By',\n",
       " 'C',\n",
       " 'Caerbannog',\n",
       " 'Camaaaaaargue',\n",
       " 'Camelot',\n",
       " 'Castle',\n",
       " 'Chapter',\n",
       " 'Charge',\n",
       " 'Chaste',\n",
       " 'Cherries',\n",
       " 'Chicken',\n",
       " 'Chickennn',\n",
       " 'Chop',\n",
       " 'Christ',\n",
       " 'Churches',\n",
       " 'Cider',\n",
       " 'Clark',\n",
       " 'Clear',\n",
       " 'Come',\n",
       " 'Concorde',\n",
       " 'Consult',\n",
       " 'Cornwall',\n",
       " 'Could',\n",
       " 'Course',\n",
       " 'Court',\n",
       " 'Crapper',\n",
       " 'Cut',\n",
       " 'Dappy',\n",
       " 'Death',\n",
       " 'Defeat',\n",
       " 'Dennis',\n",
       " 'Did',\n",
       " 'Didn',\n",
       " 'Dingo',\n",
       " 'Dis',\n",
       " 'Divine',\n",
       " 'Do',\n",
       " 'Doctor',\n",
       " 'Does',\n",
       " 'Don',\n",
       " 'Dragon',\n",
       " 'Dramatically',\n",
       " 'Ecky',\n",
       " 'Ector',\n",
       " 'Eee',\n",
       " 'Eh',\n",
       " 'Enchanter',\n",
       " 'England',\n",
       " 'English',\n",
       " 'Erbert',\n",
       " 'Ere',\n",
       " 'Erm',\n",
       " 'Eternal',\n",
       " 'European',\n",
       " 'Even',\n",
       " 'Every',\n",
       " 'Everything',\n",
       " 'Ewing',\n",
       " 'Exactly',\n",
       " 'Excalibur',\n",
       " 'Excuse',\n",
       " 'Explain',\n",
       " 'Far',\n",
       " 'Farewell',\n",
       " 'Father',\n",
       " 'Fetchez',\n",
       " 'Fiends',\n",
       " 'Fine',\n",
       " 'First',\n",
       " 'Firstly',\n",
       " 'Five',\n",
       " 'Follow',\n",
       " 'For',\n",
       " 'Forgive',\n",
       " 'Forward',\n",
       " 'Found',\n",
       " 'Four',\n",
       " 'France',\n",
       " 'Frank',\n",
       " 'French',\n",
       " 'Gable',\n",
       " 'Galahad',\n",
       " 'Gallahad',\n",
       " 'Gawain',\n",
       " 'Get',\n",
       " 'Go',\n",
       " 'God',\n",
       " 'Good',\n",
       " 'Gorge',\n",
       " 'Grail',\n",
       " 'Great',\n",
       " 'Greetings',\n",
       " 'Grenade',\n",
       " 'Guards',\n",
       " 'Guy',\n",
       " 'Ha',\n",
       " 'Hah',\n",
       " 'Hallo',\n",
       " 'Halt',\n",
       " 'Hand',\n",
       " 'Hang',\n",
       " 'Have',\n",
       " 'Haw',\n",
       " 'He',\n",
       " 'Hee',\n",
       " 'Heee',\n",
       " 'Heh',\n",
       " 'Hello',\n",
       " 'Help',\n",
       " 'Herbert',\n",
       " 'Here',\n",
       " 'Hey',\n",
       " 'Hic',\n",
       " 'Hill',\n",
       " 'Himself',\n",
       " 'His',\n",
       " 'Hiyaah',\n",
       " 'Hiyah',\n",
       " 'Hiyya',\n",
       " 'Hm',\n",
       " 'Hmm',\n",
       " 'Ho',\n",
       " 'Hoa',\n",
       " 'Hold',\n",
       " 'Holy',\n",
       " 'Honestly',\n",
       " 'Hoo',\n",
       " 'Hooray',\n",
       " 'How',\n",
       " 'Huh',\n",
       " 'Hurry',\n",
       " 'Huy',\n",
       " 'Huyah',\n",
       " 'Hya',\n",
       " 'Hyy',\n",
       " 'I',\n",
       " 'Idiom',\n",
       " 'Iesu',\n",
       " 'If',\n",
       " 'Iiiiives',\n",
       " 'Iiiives',\n",
       " 'In',\n",
       " 'Is',\n",
       " 'Isn',\n",
       " 'It',\n",
       " 'Ives',\n",
       " 'Jesus',\n",
       " 'Joseph',\n",
       " 'Just',\n",
       " 'Keep',\n",
       " 'King',\n",
       " 'Knight',\n",
       " 'Knights',\n",
       " 'Lady',\n",
       " 'Lake',\n",
       " 'Lancelot',\n",
       " 'Launcelot',\n",
       " 'Lead',\n",
       " 'Leaving',\n",
       " 'Let',\n",
       " 'Lie',\n",
       " 'Like',\n",
       " 'Listen',\n",
       " 'Loimbard',\n",
       " 'Look',\n",
       " 'Looks',\n",
       " 'Lord',\n",
       " 'Lucky',\n",
       " 'Make',\n",
       " 'Man',\n",
       " 'May',\n",
       " 'Maynard',\n",
       " 'Meanwhile',\n",
       " 'Mercea',\n",
       " 'Message',\n",
       " 'Midget',\n",
       " 'Mind',\n",
       " 'Mine',\n",
       " 'Mmm',\n",
       " 'Monsieur',\n",
       " 'More',\n",
       " 'Morning',\n",
       " 'Most',\n",
       " 'Mother',\n",
       " 'Mud',\n",
       " 'Must',\n",
       " 'My',\n",
       " 'N',\n",
       " 'Nador',\n",
       " 'Nay',\n",
       " 'Neee',\n",
       " 'Never',\n",
       " 'Ni',\n",
       " 'Nine',\n",
       " 'Ninepence',\n",
       " 'No',\n",
       " 'None',\n",
       " 'Not',\n",
       " 'Nothing',\n",
       " 'Now',\n",
       " 'Nu',\n",
       " 'O',\n",
       " 'Of',\n",
       " 'Off',\n",
       " 'Oh',\n",
       " 'Ohh',\n",
       " 'Old',\n",
       " 'Olfin',\n",
       " 'On',\n",
       " 'Once',\n",
       " 'One',\n",
       " 'Ooh',\n",
       " 'Oooh',\n",
       " 'Oooo',\n",
       " 'Oooohoohohooo',\n",
       " 'Oooooooh',\n",
       " 'Open',\n",
       " 'Or',\n",
       " 'Order',\n",
       " 'Other',\n",
       " 'Oui',\n",
       " 'Our',\n",
       " 'Over',\n",
       " 'Ow',\n",
       " 'Packing',\n",
       " 'Patsy',\n",
       " 'Pendragon',\n",
       " 'Peng',\n",
       " 'Perhaps',\n",
       " 'Peril',\n",
       " 'Picture',\n",
       " 'Pie',\n",
       " 'Piglet',\n",
       " 'Pin',\n",
       " 'Please',\n",
       " 'Practice',\n",
       " 'Prepare',\n",
       " 'Prince',\n",
       " 'Princess',\n",
       " 'Providence',\n",
       " 'Psalms',\n",
       " 'Pull',\n",
       " 'Pure',\n",
       " 'Put',\n",
       " 'Quick',\n",
       " 'Quickly',\n",
       " 'Quiet',\n",
       " 'Quite',\n",
       " 'Quoi',\n",
       " 'Rather',\n",
       " 'Really',\n",
       " 'Recently',\n",
       " 'Remove',\n",
       " 'Rheged',\n",
       " 'Ridden',\n",
       " 'Right',\n",
       " 'Riiight',\n",
       " 'Robin',\n",
       " 'Robinson',\n",
       " 'Roger',\n",
       " 'Round',\n",
       " 'Run',\n",
       " 'Running',\n",
       " 'S',\n",
       " 'Said',\n",
       " 'Saint',\n",
       " 'Saxons',\n",
       " 'Say',\n",
       " 'Schools',\n",
       " 'See',\n",
       " 'Seek',\n",
       " 'Shall',\n",
       " 'She',\n",
       " 'Shh',\n",
       " 'Shrubber',\n",
       " 'Shrubberies',\n",
       " 'Shut',\n",
       " 'Silence',\n",
       " 'Silly',\n",
       " 'Since',\n",
       " 'Sir',\n",
       " 'Skip',\n",
       " 'So',\n",
       " 'Sorry',\n",
       " 'Speak',\n",
       " 'Splendid',\n",
       " 'Spring',\n",
       " 'Stand',\n",
       " 'Stay',\n",
       " 'Steady',\n",
       " 'Stop',\n",
       " 'Summer',\n",
       " 'Supposing',\n",
       " 'Supreme',\n",
       " 'Surely',\n",
       " 'Swamp',\n",
       " 'Table',\n",
       " 'Tale',\n",
       " 'Tall',\n",
       " 'Tell',\n",
       " 'Thank',\n",
       " 'That',\n",
       " 'The',\n",
       " 'Thee',\n",
       " 'Then',\n",
       " 'There',\n",
       " 'Therefore',\n",
       " 'They',\n",
       " 'This',\n",
       " 'Those',\n",
       " 'Thou',\n",
       " 'Thpppppt',\n",
       " 'Thppppt',\n",
       " 'Thpppt',\n",
       " 'Thppt',\n",
       " 'Three',\n",
       " 'Throw',\n",
       " 'Thsss',\n",
       " 'Thursday',\n",
       " 'Thy',\n",
       " 'Til',\n",
       " 'Tim',\n",
       " 'Tis',\n",
       " 'To',\n",
       " 'Today',\n",
       " 'Together',\n",
       " 'Too',\n",
       " 'Torment',\n",
       " 'Tower',\n",
       " 'True',\n",
       " 'Try',\n",
       " 'Twenty',\n",
       " 'Two',\n",
       " 'U',\n",
       " 'Uh',\n",
       " 'Uhh',\n",
       " 'Ulk',\n",
       " 'Um',\n",
       " 'Umhm',\n",
       " 'Umm',\n",
       " 'Un',\n",
       " 'Unfortunately',\n",
       " 'Until',\n",
       " 'Use',\n",
       " 'Uther',\n",
       " 'Uugh',\n",
       " 'Uuh',\n",
       " 'Very',\n",
       " 'Victory',\n",
       " 'W',\n",
       " 'Waa',\n",
       " 'Wait',\n",
       " 'Walk',\n",
       " 'Wayy',\n",
       " 'We',\n",
       " 'Welcome',\n",
       " 'Well',\n",
       " 'What',\n",
       " 'When',\n",
       " 'Where',\n",
       " 'Which',\n",
       " 'Who',\n",
       " 'Whoa',\n",
       " 'Why',\n",
       " 'Will',\n",
       " 'Winston',\n",
       " 'Winter',\n",
       " 'With',\n",
       " 'Woa',\n",
       " 'Wood',\n",
       " 'Would',\n",
       " 'Y',\n",
       " 'Yapping',\n",
       " 'Yay',\n",
       " 'Yeaaah',\n",
       " 'Yeaah',\n",
       " 'Yeah',\n",
       " 'Yes',\n",
       " 'You',\n",
       " 'Your',\n",
       " 'Yup',\n",
       " 'Zoot']"
      ]
     },
     "execution_count": 58,
     "metadata": {},
     "output_type": "execute_result"
    }
   ],
   "source": [
    "sorted(word for word in set(text6) if word.istitle())"
   ]
  },
  {
   "cell_type": "markdown",
   "id": "af003462",
   "metadata": {
    "id": "af003462"
   },
   "source": [
    "#### 25. Define sent to be the list of words ['she', 'sells', 'sea', 'shells', 'by', 'the', 'sea', 'shore']. Now write code to perform the following tasks:\n",
    " - Print all words beginning with sh\n",
    " - Print all words longer than four characters"
   ]
  },
  {
   "cell_type": "code",
   "execution_count": 59,
   "id": "e6e4fe15",
   "metadata": {
    "id": "e6e4fe15"
   },
   "outputs": [],
   "source": [
    "list = ['she', 'sells', 'sea', 'shells', 'by', 'the', 'sea', 'shore']"
   ]
  },
  {
   "cell_type": "code",
   "execution_count": 60,
   "id": "c9bebe32",
   "metadata": {
    "id": "c9bebe32",
    "outputId": "d9678d97-5f16-45b6-cff4-ab8b83435dc8"
   },
   "outputs": [
    {
     "data": {
      "text/plain": [
       "['she', 'shells', 'shore']"
      ]
     },
     "execution_count": 60,
     "metadata": {},
     "output_type": "execute_result"
    }
   ],
   "source": [
    "sorted(w for w in list if w.startswith(\"sh\"))"
   ]
  },
  {
   "cell_type": "code",
   "execution_count": 61,
   "id": "6d213453",
   "metadata": {
    "id": "6d213453",
    "outputId": "f9157970-afd9-4632-a11d-b507a9b2797e"
   },
   "outputs": [
    {
     "data": {
      "text/plain": [
       "['sells', 'shells', 'shore']"
      ]
     },
     "execution_count": 61,
     "metadata": {},
     "output_type": "execute_result"
    }
   ],
   "source": [
    "sorted(w for w in list if len(w) > 4)"
   ]
  },
  {
   "cell_type": "markdown",
   "id": "587044af",
   "metadata": {
    "id": "587044af"
   },
   "source": [
    "#### 26. What does the following Python code do? sum(len(w) for w in text1) Can you use it to work out the average word length of a text?"
   ]
  },
  {
   "cell_type": "code",
   "execution_count": 62,
   "id": "8a6696d9",
   "metadata": {
    "id": "8a6696d9",
    "outputId": "d41573b9-6d21-4acf-eef6-ac4c2f7671f9",
    "scrolled": true
   },
   "outputs": [
    {
     "data": {
      "text/plain": [
       "999044"
      ]
     },
     "execution_count": 62,
     "metadata": {},
     "output_type": "execute_result"
    }
   ],
   "source": [
    "sum_length = sum(len(w) for w in text1)\n",
    "sum_length"
   ]
  },
  {
   "cell_type": "markdown",
   "id": "055e0d96",
   "metadata": {
    "id": "055e0d96",
    "outputId": "77d88b01-789c-4226-dbf0-8a6b2f625bba"
   },
   "source": [
    "This function sums up the length of every word in the text."
   ]
  },
  {
   "cell_type": "code",
   "execution_count": 63,
   "id": "Ezv30uX5cR57",
   "metadata": {
    "id": "Ezv30uX5cR57",
    "outputId": "a53c78af-0d11-4092-aa4d-db7bf5caebc0"
   },
   "outputs": [
    {
     "data": {
      "text/plain": [
       "3.830411128023649"
      ]
     },
     "execution_count": 63,
     "metadata": {},
     "output_type": "execute_result"
    }
   ],
   "source": [
    "# Finding average\n",
    "average_length = sum_length/len(text1)\n",
    "average_length"
   ]
  },
  {
   "cell_type": "markdown",
   "id": "ac7c68d5",
   "metadata": {
    "id": "ac7c68d5"
   },
   "source": [
    "#### 27. Define a function called vocab_size(text) that has a single parameter for the text, and which returns the vocabulary size of the text."
   ]
  },
  {
   "cell_type": "code",
   "execution_count": 64,
   "id": "b271fe4b",
   "metadata": {
    "id": "b271fe4b",
    "outputId": "5d079833-48a2-4dee-9bfe-b3657c0eef67"
   },
   "outputs": [
    {
     "data": {
      "text/plain": [
       "16948"
      ]
     },
     "execution_count": 64,
     "metadata": {},
     "output_type": "execute_result"
    }
   ],
   "source": [
    "def vocab_size(text):\n",
    "    return len(set(w.lower() for w in text if w.isalpha()))\n",
    "vocab_size(text1)"
   ]
  },
  {
   "cell_type": "markdown",
   "id": "745681ba",
   "metadata": {
    "id": "745681ba"
   },
   "source": [
    "#### 28. Define a function percent(word, text) that calculates how often a given word occurs in a text, and expresses the result as a percentage."
   ]
  },
  {
   "cell_type": "code",
   "execution_count": 65,
   "id": "727da386",
   "metadata": {
    "id": "727da386"
   },
   "outputs": [],
   "source": [
    "def percent(word,text):\n",
    "    occurence = text.count(word)\n",
    "    length = len(text)\n",
    "    result = 100 * (occurence/length)\n",
    "    return str(result) + '%'"
   ]
  },
  {
   "cell_type": "code",
   "execution_count": 66,
   "id": "24cceb8d",
   "metadata": {
    "id": "24cceb8d",
    "outputId": "0259ffd5-7be0-484c-aaf2-b838f8e1fa40"
   },
   "outputs": [
    {
     "data": {
      "text/plain": [
       "'2.7271571452788606%'"
      ]
     },
     "execution_count": 66,
     "metadata": {},
     "output_type": "execute_result"
    }
   ],
   "source": [
    "percent('the',text2)"
   ]
  },
  {
   "cell_type": "markdown",
   "id": "f846a921",
   "metadata": {
    "id": "f846a921"
   },
   "source": [
    "#### 29. We have been using sets to store vocabularies. Try the following Python expression: set(sent3) < set(text1). Experiment with this using different arguments to set(). What does it do? Can you think of a practical application for this?"
   ]
  },
  {
   "cell_type": "code",
   "execution_count": 67,
   "id": "8201856f",
   "metadata": {
    "colab": {
     "base_uri": "https://localhost:8080/",
     "height": 168
    },
    "executionInfo": {
     "elapsed": 216,
     "status": "error",
     "timestamp": 1649614966132,
     "user": {
      "displayName": "Yong Zhao",
      "userId": "11864959301267989818"
     },
     "user_tz": 420
    },
    "id": "8201856f",
    "outputId": "661c1b5b-5c07-4df4-9eb4-da7d30692161"
   },
   "outputs": [
    {
     "data": {
      "text/plain": [
       "['In',\n",
       " 'the',\n",
       " 'beginning',\n",
       " 'God',\n",
       " 'created',\n",
       " 'the',\n",
       " 'heaven',\n",
       " 'and',\n",
       " 'the',\n",
       " 'earth',\n",
       " '.']"
      ]
     },
     "execution_count": 67,
     "metadata": {},
     "output_type": "execute_result"
    }
   ],
   "source": [
    "sent3"
   ]
  },
  {
   "cell_type": "code",
   "execution_count": 68,
   "id": "5b84e406",
   "metadata": {
    "id": "5b84e406",
    "outputId": "207dee8f-2c92-48e4-e605-4cda437e6624"
   },
   "outputs": [
    {
     "data": {
      "text/plain": [
       "True"
      ]
     },
     "execution_count": 68,
     "metadata": {},
     "output_type": "execute_result"
    }
   ],
   "source": [
    "set(sent3) < set(text1)"
   ]
  },
  {
   "cell_type": "code",
   "execution_count": 69,
   "id": "hjXTMpk6cR58",
   "metadata": {
    "id": "hjXTMpk6cR58",
    "outputId": "6d652d6c-d163-4ea6-87fe-317d6bc6272e"
   },
   "outputs": [
    {
     "data": {
      "text/plain": [
       "False"
      ]
     },
     "execution_count": 69,
     "metadata": {},
     "output_type": "execute_result"
    }
   ],
   "source": [
    "set(sent1) > set(text2)"
   ]
  },
  {
   "cell_type": "code",
   "execution_count": 70,
   "id": "c_sIoPbOcR58",
   "metadata": {
    "id": "c_sIoPbOcR58",
    "outputId": "7e5bc8a9-4f21-4eed-8822-f334f01b2974"
   },
   "outputs": [
    {
     "data": {
      "text/plain": [
       "False"
      ]
     },
     "execution_count": 70,
     "metadata": {},
     "output_type": "execute_result"
    }
   ],
   "source": [
    "set(text2) > set(text1)"
   ]
  },
  {
   "cell_type": "code",
   "execution_count": 71,
   "id": "bcdVInhUcR58",
   "metadata": {
    "id": "bcdVInhUcR58",
    "outputId": "523027d2-2c4f-4c99-f9eb-7f614bba35f7"
   },
   "outputs": [
    {
     "data": {
      "text/plain": [
       "False"
      ]
     },
     "execution_count": 71,
     "metadata": {},
     "output_type": "execute_result"
    }
   ],
   "source": [
    "set(sent1) < set(sent5)"
   ]
  },
  {
   "cell_type": "markdown",
   "id": "dAOlZR8gcR58",
   "metadata": {
    "id": "dAOlZR8gcR58"
   },
   "source": [
    "This function could be used to determine if one set was drawn from another, i.e., to try to locate which text a sentence was taken from. However, this would generate a large number of false positives if the sentence was sufficiently short, as shown above. It could also be used to compare the similarities between two texts - with the condition that one text would have to be significantly shorter than the other."
   ]
  }
 ],
 "metadata": {
  "colab": {
   "name": "Assignment2_Summer.ipynb",
   "provenance": []
  },
  "kernelspec": {
   "display_name": "Python 3 (ipykernel)",
   "language": "python",
   "name": "python3"
  },
  "language_info": {
   "codemirror_mode": {
    "name": "ipython",
    "version": 3
   },
   "file_extension": ".py",
   "mimetype": "text/x-python",
   "name": "python",
   "nbconvert_exporter": "python",
   "pygments_lexer": "ipython3",
   "version": "3.9.7"
  }
 },
 "nbformat": 4,
 "nbformat_minor": 5
}
