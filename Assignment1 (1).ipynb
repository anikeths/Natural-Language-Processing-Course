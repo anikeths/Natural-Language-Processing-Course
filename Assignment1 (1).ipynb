{
  "cells": [
    {
      "cell_type": "markdown",
      "id": "616b5a3c",
      "metadata": {
        "id": "616b5a3c"
      },
      "source": [
        "### Group:\n",
        "Aniketh Satyanarayana, Shilpi Kumari, Swetha Vijaya Raju, Yong Zhao"
      ]
    },
    {
      "cell_type": "code",
      "execution_count": null,
      "id": "e6a92928",
      "metadata": {
        "scrolled": true,
        "id": "e6a92928"
      },
      "outputs": [],
      "source": [
        "import re"
      ]
    },
    {
      "cell_type": "markdown",
      "id": "bc145a9f",
      "metadata": {
        "id": "bc145a9f"
      },
      "source": [
        "### 1. Date Detection\n",
        "Write a regular expression that can detect dates in the DD/MM/YYYY format. Assume that the days range from 01 to 31, the months range from 01 to 12, and the years range from 1000 to 2999. Note that if the day or month is a single digit, it’ll have a leading zero.\n",
        "\n",
        "The regular expression doesn’t have to detect correct days for each month or for leap years; it will accept nonexistent dates like 31/02/2020 or 31/04/2021. Then store these strings into variables named month, day, and year, and write additional code that can detect if it is a valid date. April, June, September, and November have 30 days, February has 28 days, and the rest of the months have 31 days. February has 29 days in leap years. Leap years are every year evenly divisible by 4, except for years evenly divisible by 100, unless the year is also evenly divisible by 400. Note how this calculation makes it impossible to make a reasonably sized regular expression that can detect a valid date."
      ]
    },
    {
      "cell_type": "markdown",
      "id": "82c9e031",
      "metadata": {
        "id": "82c9e031"
      },
      "source": [
        "#### Solution"
      ]
    },
    {
      "cell_type": "code",
      "execution_count": null,
      "id": "809a171a",
      "metadata": {
        "id": "809a171a"
      },
      "outputs": [],
      "source": [
        "def isLeapYear(year):\n",
        "    return ((year%4 == 0) and (year%100 != 0)) or (year%400 == 0)"
      ]
    },
    {
      "cell_type": "code",
      "execution_count": null,
      "id": "7ba16686",
      "metadata": {
        "id": "7ba16686"
      },
      "outputs": [],
      "source": [
        "def isDate(date):\n",
        "    dateRegex = re.compile(r'(0[1-9]|[1-2][0-9]|3[0-1])/(0[1-9]|1[0-2])/([1-2]\\d\\d\\d)')\n",
        "    print()\n",
        "    try:\n",
        "        day, month, year = dateRegex.findall(date)[0]\n",
        "    except:\n",
        "        return False\n",
        "    \n",
        "    day, month, year = int(day), int(month), int(year)\n",
        "    leapYear = isLeapYear(year)\n",
        "    february = (month == 2)\n",
        "    shortMonth = month in {4,6,9,11}\n",
        "    \n",
        "    if shortMonth and day > 30:\n",
        "        print(f'0{month} only has 30 days.')\n",
        "        return False\n",
        "    \n",
        "    if february:\n",
        "        if leapYear and day > 29:\n",
        "            print(f'0{month}/{year} only has only 29 days.')\n",
        "            return False\n",
        "        if not leapYear and day > 28:\n",
        "            print(f'0{month} only has 28 days.')\n",
        "            return False  \n",
        "        \n",
        "    return True"
      ]
    },
    {
      "cell_type": "code",
      "execution_count": null,
      "id": "8caa21a7",
      "metadata": {
        "scrolled": true,
        "id": "8caa21a7",
        "outputId": "05487b75-da99-4cd6-9f30-7de45ad115c9"
      },
      "outputs": [
        {
          "name": "stdout",
          "output_type": "stream",
          "text": [
            "Enter date: \n",
            "03/04/2022\n",
            "\n",
            "\n",
            "Valid date!\n"
          ]
        }
      ],
      "source": [
        "print(\"Enter date: \")\n",
        "date = input()\n",
        "if isDate(date):\n",
        "    print(\"\\nValid date!\")\n",
        "else:\n",
        "    print(\"\\nInvalid date.\")        "
      ]
    },
    {
      "cell_type": "markdown",
      "id": "235b7aca",
      "metadata": {
        "id": "235b7aca"
      },
      "source": [
        "#### Test case:\n",
        "Valid dates - 29/02/2000, 23/06/1983\n",
        "<br>Invalid dates - 31/04/2000, 30/02/1900, 30/02/2000, 22/12/4123, 1234/12/2222, bb/23/3333, 29/02/2021"
      ]
    },
    {
      "cell_type": "markdown",
      "id": "7b5f8811",
      "metadata": {
        "id": "7b5f8811"
      },
      "source": [
        "### 2. Strong Password Detection\n",
        "Write a function that uses regular expressions to make sure the password string it is passed is strong. A strong password is defined as one that is at least eight characters long, contains both uppercase and lowercase characters, and has at least one digit. You may need to test the string against multiple regex patterns to validate its strength."
      ]
    },
    {
      "cell_type": "markdown",
      "id": "a296306b",
      "metadata": {
        "id": "a296306b"
      },
      "source": [
        "#### Solution"
      ]
    },
    {
      "cell_type": "code",
      "execution_count": null,
      "id": "cf116155",
      "metadata": {
        "id": "cf116155"
      },
      "outputs": [],
      "source": [
        "def isPasswordStrong(password):\n",
        "    lengthPattern = re.compile(r'.{8,}')\n",
        "    short = not lengthPattern.search(password)\n",
        "\n",
        "    lowerPattern = re.compile(r'[a-z]')\n",
        "    noLowercase = not lowerPattern.search(password)\n",
        "\n",
        "    upperPattern = re.compile(r'[A-Z]')\n",
        "    noUppercase = not upperPattern.search(password)\n",
        "\n",
        "    digitPattern = re.compile(r'\\d')\n",
        "    noDigit = not digitPattern.search(password)\n",
        "    \n",
        "    isWeak = short or noLowercase or noUppercase or noDigit\n",
        "\n",
        "    return not isWeak"
      ]
    },
    {
      "cell_type": "code",
      "execution_count": null,
      "id": "6a6ced51",
      "metadata": {
        "scrolled": true,
        "id": "6a6ced51",
        "outputId": "ea46633d-ae36-429d-b24d-0eddbda5f5b6"
      },
      "outputs": [
        {
          "name": "stdout",
          "output_type": "stream",
          "text": [
            "Enter password: \n",
            "Nlp_Class\n",
            "\n",
            "Weak password. Try again.\n"
          ]
        }
      ],
      "source": [
        "print(\"Enter password: \")\n",
        "password = input()\n",
        "if isPasswordStrong(password):\n",
        "    print(\"\\nStrong password!\")\n",
        "else:\n",
        "    print(\"\\nWeak password. Try again.\")"
      ]
    },
    {
      "cell_type": "markdown",
      "id": "cfa1a974",
      "metadata": {
        "id": "cfa1a974"
      },
      "source": [
        "#### Test case:\n",
        "Valid passwords - NLPclass1, NLPclass1#\n",
        "<br>Invalid passwords - Nlp_Class, nlp_class1, NLPCLASS1, nlpclass, Nlp1#"
      ]
    },
    {
      "cell_type": "markdown",
      "id": "2f27a548",
      "metadata": {
        "id": "2f27a548"
      },
      "source": [
        "### 3. Regex Version of the strip() Method\n",
        "Write a function that takes a string and does the same thing as the strip() string method. If no other arguments are passed other than the string to strip, then whitespace characters will be removed from the beginning and end of the string. Otherwise, the characters specified in the second argument to the function will be removed from the string."
      ]
    },
    {
      "cell_type": "markdown",
      "id": "30e88882",
      "metadata": {
        "id": "30e88882"
      },
      "source": [
        "#### Solution"
      ]
    },
    {
      "cell_type": "code",
      "execution_count": null,
      "id": "b77f8223",
      "metadata": {
        "id": "b77f8223"
      },
      "outputs": [],
      "source": [
        "def regex_strip(s, char=None):\n",
        "    if not char:\n",
        "        strip_left = re.compile(r'^\\s*') #string starting with whitespace\n",
        "        strip_right = re.compile(r'\\s*$') #string ending with whitespace\n",
        "\n",
        "        s = re.sub(strip_left, \"\", s) #replacing strip_left with \"\" in string s\n",
        "        s = re.sub(strip_right, \"\", s) #replacing strip_right with \"\" in string s\n",
        "    else:\n",
        "        strip_char = re.compile(char)\n",
        "        s = re.sub(strip_char, \"\", s)\n",
        "    return s"
      ]
    },
    {
      "cell_type": "code",
      "execution_count": null,
      "id": "b3a3d404",
      "metadata": {
        "id": "b3a3d404",
        "outputId": "38bdd6c8-c946-49c7-c584-a5c3cf510920"
      },
      "outputs": [
        {
          "name": "stdout",
          "output_type": "stream",
          "text": [
            "Enter string to be stripped: Banana\n",
            "Enter character to be removed, if none press enter: a\n",
            "Bnn\n"
          ]
        }
      ],
      "source": [
        "string_to_be_stripped = input(\"Enter string to be stripped: \")\n",
        "char_to_be_removed = input(\"Enter character to be removed, if none press enter: \")\n",
        "print(regex_strip(string_to_be_stripped, char_to_be_removed)) "
      ]
    },
    {
      "cell_type": "markdown",
      "id": "19893506",
      "metadata": {
        "id": "19893506"
      },
      "source": [
        "#### Test case:\n",
        "1. Banana, a - Bnn\n",
        "2.    NLP  , - NLP\n",
        "3.    NLP  , L -     NP    "
      ]
    }
  ],
  "metadata": {
    "kernelspec": {
      "display_name": "Python 3 (ipykernel)",
      "language": "python",
      "name": "python3"
    },
    "language_info": {
      "codemirror_mode": {
        "name": "ipython",
        "version": 3
      },
      "file_extension": ".py",
      "mimetype": "text/x-python",
      "name": "python",
      "nbconvert_exporter": "python",
      "pygments_lexer": "ipython3",
      "version": "3.9.7"
    },
    "colab": {
      "name": "Assignment1.ipynb",
      "provenance": []
    }
  },
  "nbformat": 4,
  "nbformat_minor": 5
}